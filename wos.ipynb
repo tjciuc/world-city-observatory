{
 "cells": [
  {
   "cell_type": "markdown",
   "metadata": {},
   "source": [
    "# Scrape data from WOS"
   ]
  },
  {
   "cell_type": "code",
   "execution_count": 15,
   "metadata": {
    "collapsed": true
   },
   "outputs": [],
   "source": [
    "from selenium import webdriver\n",
    "from bs4 import BeautifulSoup\n",
    "from pyvirtualdisplay import Display\n",
    "import numpy as np\n",
    "import time\n",
    "import requests\n",
    "\n",
    "from selenium.webdriver.support import expected_conditions as EC\n",
    "from selenium.webdriver.common.by import By\n",
    "from selenium.webdriver.support.ui import WebDriverWait as wait"
   ]
  },
  {
   "cell_type": "code",
   "execution_count": 7,
   "metadata": {
    "collapsed": true
   },
   "outputs": [],
   "source": [
    "driver = webdriver.Chrome()"
   ]
  },
  {
   "cell_type": "code",
   "execution_count": 9,
   "metadata": {},
   "outputs": [
    {
     "name": "stdout",
     "output_type": "stream",
     "text": [
      "12\n"
     ]
    }
   ],
   "source": [
    "for x in soup.find_all('td', 'goto'):\n",
    "    print (x.text.split(' ')[-2])\n",
    "    break"
   ]
  },
  {
   "cell_type": "code",
   "execution_count": 8,
   "metadata": {
    "collapsed": true
   },
   "outputs": [],
   "source": [
    "html = driver.page_source\n",
    "soup = BeautifulSoup(html, \"html.parser\")\n",
    "\n",
    "for x in soup.find_all('a', 'smallV110 snowplow-full-record'):\n",
    "    url = 'http://apps.webofknowledge.com' + x['href']\n",
    "    \n",
    "short = url.split('page')[0]\n",
    "\n",
    "for x in soup.find_all('td', 'goto'):\n",
    "    pn = x.text.split(' ')[-2]"
   ]
  },
  {
   "cell_type": "code",
   "execution_count": 11,
   "metadata": {
    "collapsed": true
   },
   "outputs": [],
   "source": [
    "sn = []\n",
    "tk = []\n",
    "tt = []\n",
    "\n",
    "for xm in range(1, int(pn)+1):\n",
    "    for ym in range(1, 51):\n",
    "        time.sleep(5)\n",
    "        nurl = short + 'page=' + str(xm)+ '&doc=' + str((xm - 1)*50 + ym)\n",
    "        \n",
    "        driver.get(nurl)\n",
    "        html = driver.page_source\n",
    "        soup = BeautifulSoup(html, \"html.parser\")\n",
    "        \n",
    "        keys = []\n",
    "        for x in soup.find_all('div', 'block-record-info'):\n",
    "            for y in x.find_all('div', 'title3'):\n",
    "                if 'word' in y.text:\n",
    "                    for z in x.find_all('p', 'FR_field'):\n",
    "                        keys.append(z.text) \n",
    "        tk.append(keys)\n",
    "        \n",
    "        nn = ''\n",
    "        for x in soup.find_all('div', 'block-record-info'):\n",
    "            for y in x.find_all('p', 'FR_field'):\n",
    "                if 'DOI' in y.text:\n",
    "                    nn = y.text\n",
    "        sn.append(nn)\n",
    "        \n",
    "        title = ''\n",
    "        for x in soup.find_all('div', 'title'):\n",
    "            title = x.text\n",
    "        tt.append(title)\n",
    "        \n",
    "    np.save('n_kw_' + str(xm) + '.npy', tk)\n",
    "    np.save('n_sn_' + str(xm) + '.npy', sn)\n",
    "    np.save('n_title_' + str(xm) + '.npy', tt)"
   ]
  },
  {
   "cell_type": "code",
   "execution_count": 198,
   "metadata": {
    "collapsed": true
   },
   "outputs": [],
   "source": [
    "# sn = []\n",
    "# tk = []\n",
    "# tt = []\n",
    "\n",
    "for xm in range(36, 37):\n",
    "    for ym in range(19, 51):\n",
    "        time.sleep(5)\n",
    "        nurl = short + 'page=' + str(xm)+ '&doc=' + str((xm - 1)*50 + ym)\n",
    "        \n",
    "        driver.get(nurl)\n",
    "        html = driver.page_source\n",
    "        soup = BeautifulSoup(html, \"html.parser\")\n",
    "        \n",
    "        keys = []\n",
    "        for x in soup.find_all('div', 'block-record-info'):\n",
    "            for y in x.find_all('div', 'title3'):\n",
    "                if 'word' in y.text:\n",
    "                    for z in x.find_all('p', 'FR_field'):\n",
    "                        keys.append(z.text) \n",
    "        tk.append(keys)\n",
    "        \n",
    "        nn = ''\n",
    "        for x in soup.find_all('div', 'block-record-info'):\n",
    "            for y in x.find_all('p', 'FR_field'):\n",
    "                if 'DOI' in y.text:\n",
    "                    nn = y.text\n",
    "        sn.append(nn)\n",
    "        \n",
    "        title = ''\n",
    "        for x in soup.find_all('div', 'title'):\n",
    "            title = x.text\n",
    "        tt.append(title)\n",
    "        \n",
    "    np.save('kw_' + str(xm) + '.npy', tk)\n",
    "    np.save('sn_' + str(xm) + '.npy', sn)\n",
    "    np.save('title_' + str(xm) + '.npy', tt)"
   ]
  },
  {
   "cell_type": "code",
   "execution_count": 19,
   "metadata": {
    "collapsed": true
   },
   "outputs": [],
   "source": [
    "urls = []\n",
    "\n",
    "for x in range(1, 2001):\n",
    "    for y in range(1, 51):\n",
    "        nurl = short + 'page=' + str(x)+ '&doc=' + str((x - 1)*50 + y)\n",
    "        urls.append(nurl)"
   ]
  },
  {
   "cell_type": "code",
   "execution_count": 200,
   "metadata": {},
   "outputs": [
    {
     "data": {
      "text/plain": [
       "(4052, 4052)"
      ]
     },
     "execution_count": 200,
     "metadata": {},
     "output_type": "execute_result"
    }
   ],
   "source": [
    "len(tk), len(sn)"
   ]
  },
  {
   "cell_type": "code",
   "execution_count": 197,
   "metadata": {},
   "outputs": [
    {
     "data": {
      "text/plain": [
       "(36, 19)"
      ]
     },
     "execution_count": 197,
     "metadata": {},
     "output_type": "execute_result"
    }
   ],
   "source": [
    "    np.save('kw_' + str(xm) + '.npy', tk)\n",
    "    np.save('sn_' + str(xm) + '.npy', sn)\n",
    "    np.save('title_' + str(xm) + '.npy', tt)"
   ]
  },
  {
   "cell_type": "code",
   "execution_count": 201,
   "metadata": {},
   "outputs": [
    {
     "data": {
      "text/plain": [
       "81"
      ]
     },
     "execution_count": 201,
     "metadata": {},
     "output_type": "execute_result"
    }
   ],
   "source": [
    "xm"
   ]
  },
  {
   "cell_type": "code",
   "execution_count": 25,
   "metadata": {
    "collapsed": true
   },
   "outputs": [],
   "source": [
    "soup = BeautifulSoup(response.text, \"html.parser\")"
   ]
  },
  {
   "cell_type": "code",
   "execution_count": 120,
   "metadata": {},
   "outputs": [
    {
     "name": "stdout",
     "output_type": "stream",
     "text": [
      "\n",
      "Author Keywords:Crowdshipping; On demand economy; Urban freight transport; City logistics; Discrete choice models; Stated preference\n",
      "\n",
      "\n",
      "KeyWords Plus:CHOICE; ACCEPTABILITY; PREFERENCES; CITY\n",
      "\n"
     ]
    }
   ],
   "source": [
    "t = 0\n",
    "keys = []\n",
    "\n",
    "for x in soup.find_all('div', 'block-record-info'):\n",
    "    for y in x.find_all('div', 'title3'):\n",
    "        if 'word' in y.text:\n",
    "            for z in x.find_all('p', 'FR_field'):\n",
    "#                 for o in z.find_all('a'):\n",
    "#                     print(o.text.title())  \n",
    "                    \n",
    "                print (z.text)"
   ]
  },
  {
   "cell_type": "code",
   "execution_count": 97,
   "metadata": {
    "scrolled": true
   },
   "outputs": [
    {
     "data": {
      "text/plain": [
       "<div class=\"block-record-info\"> <div class=\"title3\">Journal Information</div> <ul> </ul> <ul> <span id=\"links_isi_product_2\"></span> </ul></div>"
      ]
     },
     "execution_count": 97,
     "metadata": {},
     "output_type": "execute_result"
    }
   ],
   "source": [
    "x"
   ]
  },
  {
   "cell_type": "code",
   "execution_count": 144,
   "metadata": {
    "collapsed": true
   },
   "outputs": [],
   "source": [
    "sn = []\n",
    "\n",
    "for x in soup.find_all('div', 'block-record-info'):\n",
    "    for y in x.find_all('p', 'FR_field'):\n",
    "        if 'DOI' in y.text:\n",
    "            sn.append(y.text)"
   ]
  },
  {
   "cell_type": "code",
   "execution_count": 142,
   "metadata": {
    "collapsed": true
   },
   "outputs": [],
   "source": [
    "html = driver.page_source\n",
    "soup = BeautifulSoup(html, \"html.parser\")"
   ]
  },
  {
   "cell_type": "code",
   "execution_count": 145,
   "metadata": {},
   "outputs": [
    {
     "data": {
      "text/plain": [
       "['\\nDOI:10.1016/j.dib.2018.12.003']"
      ]
     },
     "execution_count": 145,
     "metadata": {},
     "output_type": "execute_result"
    }
   ],
   "source": [
    "sn"
   ]
  },
  {
   "cell_type": "code",
   "execution_count": 149,
   "metadata": {},
   "outputs": [
    {
     "data": {
      "text/plain": [
       "['\\nDOI:\\n10.1186/s12544-019-0352-x\\n',\n",
       " '\\nDOI:\\n10.1016/j.eswa.2019.01.001\\n',\n",
       " '\\nDOI:10.1016/j.dib.2018.12.003',\n",
       " '\\nDOI:\\n10.1016/j.envint.2019.01.044\\n',\n",
       " '\\nDOI:\\n10.1016/j.envint.2019.01.061\\n',\n",
       " '\\nDOI:\\n10.1016/j.envint.2019.01.053\\n',\n",
       " '\\nDOI:\\n10.1016/j.envint.2019.01.036\\n',\n",
       " '\\nDOI:\\n10.1016/j.envint.2019.01.075\\n',\n",
       " '\\nDOI:\\n10.1016/j.envint.2019.01.077\\n']"
      ]
     },
     "execution_count": 149,
     "metadata": {},
     "output_type": "execute_result"
    }
   ],
   "source": [
    "sn"
   ]
  },
  {
   "cell_type": "code",
   "execution_count": 153,
   "metadata": {},
   "outputs": [
    {
     "name": "stdout",
     "output_type": "stream",
     "text": [
      "\n",
      "Altered cord blood mitochondrial DNA content and pregnancy lead exposure in the PROGRESS cohort\n",
      "\n"
     ]
    }
   ],
   "source": [
    "for x in soup.find_all('div', 'title'):\n",
    "    print (x.text)"
   ]
  },
  {
   "cell_type": "code",
   "execution_count": 17,
   "metadata": {
    "collapsed": true
   },
   "outputs": [],
   "source": [
    "driver = webdriver.Chrome()"
   ]
  },
  {
   "cell_type": "code",
   "execution_count": 20,
   "metadata": {
    "collapsed": true
   },
   "outputs": [],
   "source": [
    "html = driver.page_source\n",
    "soup = BeautifulSoup(html, \"html.parser\")\n",
    "\n",
    "for x in soup.find_all('a', 'smallV110 snowplow-full-record'):\n",
    "    url = 'http://apps.webofknowledge.com' + x['href']\n",
    "    \n",
    "short = url.split('page')[0]\n",
    "\n",
    "for x in soup.find_all('td', 'goto'):\n",
    "    pn = x.text.split(' ')[-2]"
   ]
  },
  {
   "cell_type": "code",
   "execution_count": 21,
   "metadata": {
    "collapsed": true
   },
   "outputs": [],
   "source": [
    "sn = []\n",
    "tk = []\n",
    "tt = []\n",
    "urls = []\n",
    "\n",
    "for xm in range(1, 2):\n",
    "    for ym in range(1, 51):\n",
    "        time.sleep(5)\n",
    "        nurl = short + 'page=' + str(xm)+ '&doc=' + str((xm - 1)*50 + ym)\n",
    "        urls.append(nurl)\n",
    "        \n",
    "        driver.get(nurl)\n",
    "        html = driver.page_source\n",
    "        soup = BeautifulSoup(html, \"html.parser\")\n",
    "        \n",
    "        keys = []\n",
    "        for x in soup.find_all('div', 'block-record-info'):\n",
    "            for y in x.find_all('div', 'title3'):\n",
    "                if 'word' in y.text:\n",
    "                    for z in x.find_all('p', 'FR_field'):\n",
    "                        keys.append(z.text) \n",
    "        tk.append(keys)\n",
    "        \n",
    "        nn = ''\n",
    "        for x in soup.find_all('div', 'block-record-info'):\n",
    "            for y in x.find_all('p', 'FR_field'):\n",
    "                if 'DOI' in y.text:\n",
    "                    nn = y.text\n",
    "        sn.append(nn)\n",
    "        \n",
    "        title = ''\n",
    "        for x in soup.find_all('div', 'title'):\n",
    "            title = x.text\n",
    "        tt.append(title)\n",
    "        \n",
    "    np.save('hot_n_kw_' + str(xm) + '.npy', tk)\n",
    "    np.save('hot_n_sn_' + str(xm) + '.npy', sn)\n",
    "    np.save('hot_n_title_' + str(xm) + '.npy', tt)\n",
    "    np.save('hot_n_url_' + str(xm) + '.npy', urls)"
   ]
  },
  {
   "cell_type": "markdown",
   "metadata": {},
   "source": [
    "# Extract keywords"
   ]
  },
  {
   "cell_type": "code",
   "execution_count": 69,
   "metadata": {
    "collapsed": true
   },
   "outputs": [],
   "source": [
    "import numpy as np\n",
    "import inflect\n",
    "p = inflect.engine()\n",
    "kw = np.load('kw_81.npy')"
   ]
  },
  {
   "cell_type": "code",
   "execution_count": 70,
   "metadata": {},
   "outputs": [
    {
     "data": {
      "text/plain": [
       "4052"
      ]
     },
     "execution_count": 70,
     "metadata": {},
     "output_type": "execute_result"
    }
   ],
   "source": [
    "len(kw)"
   ]
  },
  {
   "cell_type": "code",
   "execution_count": 71,
   "metadata": {
    "collapsed": true
   },
   "outputs": [],
   "source": [
    "kw = list(kw)"
   ]
  },
  {
   "cell_type": "code",
   "execution_count": 72,
   "metadata": {
    "collapsed": true
   },
   "outputs": [],
   "source": [
    "ol = []\n",
    "\n",
    "for x in range(len(kw)):\n",
    "    \n",
    "    words = kw[x]\n",
    "    for w in words:\n",
    "        s = (w.split(':')[1]).split(';')\n",
    "        for m in s:\n",
    "            nw = p.singular_noun(m.lower().strip('\\n').strip().replace('-', ' '))\n",
    "            if nw:\n",
    "                ol.append(nw)\n",
    "            else:\n",
    "                ol.append(m.lower().strip('\\n').strip().replace('-', ' '))"
   ]
  },
  {
   "cell_type": "code",
   "execution_count": null,
   "metadata": {},
   "outputs": [],
   "source": []
  },
  {
   "cell_type": "code",
   "execution_count": 73,
   "metadata": {
    "collapsed": true
   },
   "outputs": [],
   "source": [
    "ul = list(set(ol))"
   ]
  },
  {
   "cell_type": "code",
   "execution_count": 74,
   "metadata": {},
   "outputs": [
    {
     "data": {
      "text/plain": [
       "13352"
      ]
     },
     "execution_count": 74,
     "metadata": {},
     "output_type": "execute_result"
    }
   ],
   "source": [
    "len(ul)"
   ]
  },
  {
   "cell_type": "code",
   "execution_count": 75,
   "metadata": {
    "collapsed": true
   },
   "outputs": [],
   "source": [
    "import collections as C"
   ]
  },
  {
   "cell_type": "code",
   "execution_count": 76,
   "metadata": {
    "collapsed": true
   },
   "outputs": [],
   "source": [
    "counter = C.Counter(ol)"
   ]
  },
  {
   "cell_type": "code",
   "execution_count": 77,
   "metadata": {
    "collapsed": true
   },
   "outputs": [],
   "source": [
    "n = []\n",
    "c = []\n",
    "\n",
    "for x in counter.most_common():\n",
    "    n.append(x[0])\n",
    "    c.append(x[1])"
   ]
  },
  {
   "cell_type": "code",
   "execution_count": 78,
   "metadata": {
    "collapsed": true
   },
   "outputs": [],
   "source": [
    "import pandas as pd\n",
    "d = pd.DataFrame()"
   ]
  },
  {
   "cell_type": "code",
   "execution_count": 79,
   "metadata": {
    "collapsed": true
   },
   "outputs": [],
   "source": [
    "d['keyword'] = n\n",
    "d['count'] = c"
   ]
  },
  {
   "cell_type": "code",
   "execution_count": 81,
   "metadata": {},
   "outputs": [
    {
     "data": {
      "text/html": [
       "<div>\n",
       "<style scoped>\n",
       "    .dataframe tbody tr th:only-of-type {\n",
       "        vertical-align: middle;\n",
       "    }\n",
       "\n",
       "    .dataframe tbody tr th {\n",
       "        vertical-align: top;\n",
       "    }\n",
       "\n",
       "    .dataframe thead th {\n",
       "        text-align: right;\n",
       "    }\n",
       "</style>\n",
       "<table border=\"1\" class=\"dataframe\">\n",
       "  <thead>\n",
       "    <tr style=\"text-align: right;\">\n",
       "      <th></th>\n",
       "      <th>keyword</th>\n",
       "      <th>count</th>\n",
       "    </tr>\n",
       "  </thead>\n",
       "  <tbody>\n",
       "    <tr>\n",
       "      <th>0</th>\n",
       "      <td>city</td>\n",
       "      <td>280</td>\n",
       "    </tr>\n",
       "    <tr>\n",
       "      <th>1</th>\n",
       "      <td>impact</td>\n",
       "      <td>186</td>\n",
       "    </tr>\n",
       "    <tr>\n",
       "      <th>2</th>\n",
       "      <td>model</td>\n",
       "      <td>114</td>\n",
       "    </tr>\n",
       "    <tr>\n",
       "      <th>3</th>\n",
       "      <td>child</td>\n",
       "      <td>113</td>\n",
       "    </tr>\n",
       "    <tr>\n",
       "      <th>4</th>\n",
       "      <td>china</td>\n",
       "      <td>104</td>\n",
       "    </tr>\n",
       "    <tr>\n",
       "      <th>5</th>\n",
       "      <td>air pollution</td>\n",
       "      <td>104</td>\n",
       "    </tr>\n",
       "    <tr>\n",
       "      <th>6</th>\n",
       "      <td>urbanization</td>\n",
       "      <td>102</td>\n",
       "    </tr>\n",
       "    <tr>\n",
       "      <th>7</th>\n",
       "      <td>health</td>\n",
       "      <td>100</td>\n",
       "    </tr>\n",
       "    <tr>\n",
       "      <th>8</th>\n",
       "      <td>climate change</td>\n",
       "      <td>98</td>\n",
       "    </tr>\n",
       "    <tr>\n",
       "      <th>9</th>\n",
       "      <td>prevalence</td>\n",
       "      <td>94</td>\n",
       "    </tr>\n",
       "    <tr>\n",
       "      <th>10</th>\n",
       "      <td>urban</td>\n",
       "      <td>81</td>\n",
       "    </tr>\n",
       "    <tr>\n",
       "      <th>11</th>\n",
       "      <td>risk</td>\n",
       "      <td>80</td>\n",
       "    </tr>\n",
       "    <tr>\n",
       "      <th>12</th>\n",
       "      <td>management</td>\n",
       "      <td>77</td>\n",
       "    </tr>\n",
       "    <tr>\n",
       "      <th>13</th>\n",
       "      <td>particulate matter</td>\n",
       "      <td>75</td>\n",
       "    </tr>\n",
       "    <tr>\n",
       "      <th>14</th>\n",
       "      <td>system</td>\n",
       "      <td>74</td>\n",
       "    </tr>\n",
       "    <tr>\n",
       "      <th>15</th>\n",
       "      <td>heavy metal</td>\n",
       "      <td>73</td>\n",
       "    </tr>\n",
       "    <tr>\n",
       "      <th>16</th>\n",
       "      <td>mortality</td>\n",
       "      <td>66</td>\n",
       "    </tr>\n",
       "    <tr>\n",
       "      <th>17</th>\n",
       "      <td>epidemiology</td>\n",
       "      <td>65</td>\n",
       "    </tr>\n",
       "    <tr>\n",
       "      <th>18</th>\n",
       "      <td>pollution</td>\n",
       "      <td>65</td>\n",
       "    </tr>\n",
       "    <tr>\n",
       "      <th>19</th>\n",
       "      <td>quality</td>\n",
       "      <td>64</td>\n",
       "    </tr>\n",
       "    <tr>\n",
       "      <th>20</th>\n",
       "      <td>association</td>\n",
       "      <td>63</td>\n",
       "    </tr>\n",
       "    <tr>\n",
       "      <th>21</th>\n",
       "      <td>smart city</td>\n",
       "      <td>60</td>\n",
       "    </tr>\n",
       "    <tr>\n",
       "      <th>22</th>\n",
       "      <td>source apportionment</td>\n",
       "      <td>58</td>\n",
       "    </tr>\n",
       "    <tr>\n",
       "      <th>23</th>\n",
       "      <td>disease</td>\n",
       "      <td>57</td>\n",
       "    </tr>\n",
       "    <tr>\n",
       "      <th>24</th>\n",
       "      <td>pm2.5</td>\n",
       "      <td>55</td>\n",
       "    </tr>\n",
       "    <tr>\n",
       "      <th>25</th>\n",
       "      <td>exposure</td>\n",
       "      <td>55</td>\n",
       "    </tr>\n",
       "    <tr>\n",
       "      <th>26</th>\n",
       "      <td>land use</td>\n",
       "      <td>54</td>\n",
       "    </tr>\n",
       "    <tr>\n",
       "      <th>27</th>\n",
       "      <td>community</td>\n",
       "      <td>51</td>\n",
       "    </tr>\n",
       "    <tr>\n",
       "      <th>28</th>\n",
       "      <td>infection</td>\n",
       "      <td>50</td>\n",
       "    </tr>\n",
       "    <tr>\n",
       "      <th>29</th>\n",
       "      <td>risk factor</td>\n",
       "      <td>47</td>\n",
       "    </tr>\n",
       "    <tr>\n",
       "      <th>30</th>\n",
       "      <td>adolescent</td>\n",
       "      <td>45</td>\n",
       "    </tr>\n",
       "    <tr>\n",
       "      <th>31</th>\n",
       "      <td>water</td>\n",
       "      <td>45</td>\n",
       "    </tr>\n",
       "    <tr>\n",
       "      <th>32</th>\n",
       "      <td>emission</td>\n",
       "      <td>45</td>\n",
       "    </tr>\n",
       "    <tr>\n",
       "      <th>33</th>\n",
       "      <td>pattern</td>\n",
       "      <td>45</td>\n",
       "    </tr>\n",
       "    <tr>\n",
       "      <th>34</th>\n",
       "      <td>temperature</td>\n",
       "      <td>44</td>\n",
       "    </tr>\n",
       "    <tr>\n",
       "      <th>35</th>\n",
       "      <td>obesity</td>\n",
       "      <td>43</td>\n",
       "    </tr>\n",
       "    <tr>\n",
       "      <th>36</th>\n",
       "      <td>physical activity</td>\n",
       "      <td>41</td>\n",
       "    </tr>\n",
       "    <tr>\n",
       "      <th>37</th>\n",
       "      <td>soil</td>\n",
       "      <td>41</td>\n",
       "    </tr>\n",
       "    <tr>\n",
       "      <th>38</th>\n",
       "      <td>hiv</td>\n",
       "      <td>41</td>\n",
       "    </tr>\n",
       "    <tr>\n",
       "      <th>39</th>\n",
       "      <td>area</td>\n",
       "      <td>40</td>\n",
       "    </tr>\n",
       "    <tr>\n",
       "      <th>40</th>\n",
       "      <td>united state</td>\n",
       "      <td>39</td>\n",
       "    </tr>\n",
       "    <tr>\n",
       "      <th>41</th>\n",
       "      <td>behavior</td>\n",
       "      <td>38</td>\n",
       "    </tr>\n",
       "    <tr>\n",
       "      <th>42</th>\n",
       "      <td>sustainability</td>\n",
       "      <td>38</td>\n",
       "    </tr>\n",
       "    <tr>\n",
       "      <th>43</th>\n",
       "      <td>air quality</td>\n",
       "      <td>37</td>\n",
       "    </tr>\n",
       "    <tr>\n",
       "      <th>44</th>\n",
       "      <td>biodiversity</td>\n",
       "      <td>37</td>\n",
       "    </tr>\n",
       "    <tr>\n",
       "      <th>45</th>\n",
       "      <td>prevention</td>\n",
       "      <td>37</td>\n",
       "    </tr>\n",
       "    <tr>\n",
       "      <th>46</th>\n",
       "      <td>spatial distribution</td>\n",
       "      <td>36</td>\n",
       "    </tr>\n",
       "    <tr>\n",
       "      <th>47</th>\n",
       "      <td>population</td>\n",
       "      <td>35</td>\n",
       "    </tr>\n",
       "    <tr>\n",
       "      <th>48</th>\n",
       "      <td>performance</td>\n",
       "      <td>34</td>\n",
       "    </tr>\n",
       "    <tr>\n",
       "      <th>49</th>\n",
       "      <td>ecosystem service</td>\n",
       "      <td>34</td>\n",
       "    </tr>\n",
       "  </tbody>\n",
       "</table>\n",
       "</div>"
      ],
      "text/plain": [
       "                 keyword  count\n",
       "0                   city    280\n",
       "1                 impact    186\n",
       "2                  model    114\n",
       "3                  child    113\n",
       "4                  china    104\n",
       "5          air pollution    104\n",
       "6           urbanization    102\n",
       "7                 health    100\n",
       "8         climate change     98\n",
       "9             prevalence     94\n",
       "10                 urban     81\n",
       "11                  risk     80\n",
       "12            management     77\n",
       "13    particulate matter     75\n",
       "14                system     74\n",
       "15           heavy metal     73\n",
       "16             mortality     66\n",
       "17          epidemiology     65\n",
       "18             pollution     65\n",
       "19               quality     64\n",
       "20           association     63\n",
       "21            smart city     60\n",
       "22  source apportionment     58\n",
       "23               disease     57\n",
       "24                 pm2.5     55\n",
       "25              exposure     55\n",
       "26              land use     54\n",
       "27             community     51\n",
       "28             infection     50\n",
       "29           risk factor     47\n",
       "30            adolescent     45\n",
       "31                 water     45\n",
       "32              emission     45\n",
       "33               pattern     45\n",
       "34           temperature     44\n",
       "35               obesity     43\n",
       "36     physical activity     41\n",
       "37                  soil     41\n",
       "38                   hiv     41\n",
       "39                  area     40\n",
       "40          united state     39\n",
       "41              behavior     38\n",
       "42        sustainability     38\n",
       "43           air quality     37\n",
       "44          biodiversity     37\n",
       "45            prevention     37\n",
       "46  spatial distribution     36\n",
       "47            population     35\n",
       "48           performance     34\n",
       "49     ecosystem service     34"
      ]
     },
     "execution_count": 81,
     "metadata": {},
     "output_type": "execute_result"
    }
   ],
   "source": [
    "d[:50]"
   ]
  },
  {
   "cell_type": "code",
   "execution_count": 110,
   "metadata": {
    "collapsed": true
   },
   "outputs": [],
   "source": [
    "d[:50].to_csv('city_50_keywords.csv', index= False)"
   ]
  },
  {
   "cell_type": "markdown",
   "metadata": {
    "collapsed": true
   },
   "source": [
    "# Build graph"
   ]
  },
  {
   "cell_type": "code",
   "execution_count": 90,
   "metadata": {
    "collapsed": true
   },
   "outputs": [],
   "source": [
    "keys = n[:50]"
   ]
  },
  {
   "cell_type": "code",
   "execution_count": 91,
   "metadata": {
    "collapsed": true
   },
   "outputs": [],
   "source": [
    "links = []\n",
    "\n",
    "for x in range(len(kw)):\n",
    "    \n",
    "    l = []\n",
    "    words = kw[x]\n",
    "    for w in words:\n",
    "        s = (w.split(':')[1]).split(';')\n",
    "        for m in s:\n",
    "            nw = p.singular_noun(m.lower().strip('\\n').strip().replace('-', ' '))\n",
    "\n",
    "            if nw:\n",
    "                t = nw\n",
    "            else:\n",
    "                t = m.lower().strip('\\n').strip().replace('-', ' ')\n",
    "            \n",
    "            try:\n",
    "                l.append(keys.index(t))\n",
    "            except:\n",
    "                pass\n",
    "            \n",
    "    links.append(l)"
   ]
  },
  {
   "cell_type": "code",
   "execution_count": 92,
   "metadata": {
    "collapsed": true
   },
   "outputs": [],
   "source": [
    "nlinks = []\n",
    "\n",
    "for x in links:\n",
    "    for i in range(len(x) - 1):\n",
    "        for j in range(i + 1, len(x)):\n",
    "            nlinks.append([x[i], x[j]])"
   ]
  },
  {
   "cell_type": "code",
   "execution_count": null,
   "metadata": {},
   "outputs": [],
   "source": []
  },
  {
   "cell_type": "code",
   "execution_count": 93,
   "metadata": {
    "collapsed": true
   },
   "outputs": [],
   "source": [
    "%matplotlib inline\n",
    "import matplotlib.pyplot as plt\n",
    "import networkx as nx"
   ]
  },
  {
   "cell_type": "code",
   "execution_count": 94,
   "metadata": {
    "collapsed": true
   },
   "outputs": [],
   "source": [
    "G = nx.Graph() \n",
    "for x in range(50):\n",
    "    G.add_node(x)\n",
    "    \n",
    "# G.remove_node(36)"
   ]
  },
  {
   "cell_type": "code",
   "execution_count": 95,
   "metadata": {
    "collapsed": true
   },
   "outputs": [],
   "source": [
    "for x in nlinks:\n",
    "    G.add_edge(x[0], x[1]) "
   ]
  },
  {
   "cell_type": "code",
   "execution_count": 96,
   "metadata": {},
   "outputs": [
    {
     "name": "stderr",
     "output_type": "stream",
     "text": [
      "/Users/gz/anaconda2/envs/py36/lib/python3.6/site-packages/networkx/drawing/nx_pylab.py:611: MatplotlibDeprecationWarning: isinstance(..., numbers.Number)\n",
      "  if cb.is_numlike(alpha):\n"
     ]
    },
    {
     "data": {
      "image/png": "[encoded data removed]",
      "text/plain": [
       "<Figure size 432x288 with 1 Axes>"
      ]
     },
     "metadata": {},
     "output_type": "display_data"
    }
   ],
   "source": [
    "nx.draw(G, with_labels=True)\n",
    "plt.savefig('city_50_graph.png')"
   ]
  },
  {
   "cell_type": "code",
   "execution_count": 97,
   "metadata": {
    "collapsed": true
   },
   "outputs": [],
   "source": [
    "matrix = np.zeros((50, 50))"
   ]
  },
  {
   "cell_type": "code",
   "execution_count": 98,
   "metadata": {
    "collapsed": true
   },
   "outputs": [],
   "source": [
    "matrix = pd.DataFrame(matrix)"
   ]
  },
  {
   "cell_type": "code",
   "execution_count": 99,
   "metadata": {
    "collapsed": true
   },
   "outputs": [],
   "source": [
    "for x in nlinks:\n",
    "    matrix[x[0]][x[1]] += 1\n",
    "    matrix[x[1]][x[0]] += 1"
   ]
  },
  {
   "cell_type": "code",
   "execution_count": 100,
   "metadata": {
    "collapsed": true
   },
   "outputs": [],
   "source": [
    "matrix.to_csv('city_top_50_matrix.csv', index=False)"
   ]
  },
  {
   "cell_type": "code",
   "execution_count": null,
   "metadata": {
    "collapsed": true
   },
   "outputs": [],
   "source": []
  },
  {
   "cell_type": "markdown",
   "metadata": {},
   "source": [
    "# Get top articles"
   ]
  },
  {
   "cell_type": "code",
   "execution_count": 90,
   "metadata": {
    "collapsed": true
   },
   "outputs": [],
   "source": [
    "al = np.load('hot_title_1.npy')"
   ]
  },
  {
   "cell_type": "code",
   "execution_count": 91,
   "metadata": {
    "collapsed": true
   },
   "outputs": [],
   "source": [
    "al = al[:10]"
   ]
  },
  {
   "cell_type": "code",
   "execution_count": 92,
   "metadata": {
    "collapsed": true
   },
   "outputs": [],
   "source": [
    "al = list(al)"
   ]
  },
  {
   "cell_type": "code",
   "execution_count": 93,
   "metadata": {
    "collapsed": true
   },
   "outputs": [],
   "source": [
    "al = [x.strip('\\n') for x in al]"
   ]
  },
  {
   "cell_type": "code",
   "execution_count": 94,
   "metadata": {
    "collapsed": true
   },
   "outputs": [],
   "source": [
    "out = pd.DataFrame()\n",
    "out['rank'] = [x+1 for x in range(10)] \n",
    "out['article'] = al\n",
    "out.to_csv('city_hot_articles.csv', index=False)"
   ]
  },
  {
   "cell_type": "code",
   "execution_count": null,
   "metadata": {
    "collapsed": true
   },
   "outputs": [],
   "source": []
  },
  {
   "cell_type": "markdown",
   "metadata": {},
   "source": [
    "# NLP"
   ]
  },
  {
   "cell_type": "code",
   "execution_count": 4,
   "metadata": {
    "collapsed": true
   },
   "outputs": [],
   "source": [
    "import gensim.downloader as api"
   ]
  },
  {
   "cell_type": "code",
   "execution_count": 1,
   "metadata": {
    "collapsed": true
   },
   "outputs": [],
   "source": [
    "from gensim.models import Word2Vec"
   ]
  },
  {
   "cell_type": "code",
   "execution_count": 13,
   "metadata": {
    "collapsed": true
   },
   "outputs": [],
   "source": [
    "model = api.load(\"word2vec-google-news-300\")"
   ]
  },
  {
   "cell_type": "code",
   "execution_count": null,
   "metadata": {
    "collapsed": true
   },
   "outputs": [],
   "source": [
    "model.similarity('france', 'spain')"
   ]
  },
  {
   "cell_type": "code",
   "execution_count": null,
   "metadata": {
    "collapsed": true
   },
   "outputs": [],
   "source": []
  },
  {
   "cell_type": "code",
   "execution_count": null,
   "metadata": {},
   "outputs": [],
   "source": []
  },
  {
   "cell_type": "code",
   "execution_count": null,
   "metadata": {
    "collapsed": true
   },
   "outputs": [],
   "source": []
  },
  {
   "cell_type": "code",
   "execution_count": null,
   "metadata": {
    "collapsed": true
   },
   "outputs": [],
   "source": []
  },
  {
   "cell_type": "code",
   "execution_count": null,
   "metadata": {
    "collapsed": true
   },
   "outputs": [],
   "source": []
  }
 ],
 "metadata": {
  "kernelspec": {
   "display_name": "Python 3",
   "language": "python",
   "name": "python3"
  },
  "language_info": {
   "codemirror_mode": {
    "name": "ipython",
    "version": 3
   },
   "file_extension": ".py",
   "mimetype": "text/x-python",
   "name": "python",
   "nbconvert_exporter": "python",
   "pygments_lexer": "ipython3",
   "version": "3.6.7"
  }
 },
 "nbformat": 4,
 "nbformat_minor": 2
}
