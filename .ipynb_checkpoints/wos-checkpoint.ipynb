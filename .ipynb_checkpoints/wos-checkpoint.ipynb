{
 "cells": [
  {
   "cell_type": "markdown",
   "metadata": {},
   "source": [
    "# Scrape data from WOS"
   ]
  },
  {
   "cell_type": "code",
   "execution_count": 1,
   "metadata": {
    "collapsed": true
   },
   "outputs": [],
   "source": [
    "from selenium import webdriver\n",
    "from bs4 import BeautifulSoup\n",
    "from pyvirtualdisplay import Display\n",
    "import numpy as np\n",
    "import time\n",
    "import requests\n",
    "\n",
    "from selenium.webdriver.support import expected_conditions as EC\n",
    "from selenium.webdriver.common.by import By\n",
    "from selenium.webdriver.support.ui import WebDriverWait as wait"
   ]
  },
  {
   "cell_type": "code",
   "execution_count": 5,
   "metadata": {
    "collapsed": true
   },
   "outputs": [],
   "source": [
    "driver = webdriver.Chrome()\n",
    "driver.get('http://apps.webofknowledge.com/summary.do?product=UA&parentProduct=UA&search_mode=GeneralSearch&qid=1&SID=5EEF8KyV3K19Ds9Y3c4&&page=1&action=changePageSize&pageSize=50')\n"
   ]
  },
  {
   "cell_type": "code",
   "execution_count": 9,
   "metadata": {},
   "outputs": [
    {
     "name": "stdout",
     "output_type": "stream",
     "text": [
      "12\n"
     ]
    }
   ],
   "source": [
    "for x in soup.find_all('td', 'goto'):\n",
    "    print (x.text.split(' ')[-2])\n",
    "    break"
   ]
  },
  {
   "cell_type": "code",
   "execution_count": 6,
   "metadata": {
    "collapsed": true
   },
   "outputs": [],
   "source": [
    "html = driver.page_source\n",
    "soup = BeautifulSoup(html, \"html.parser\")\n",
    "\n",
    "for x in soup.find_all('a', 'smallV110 snowplow-full-record'):\n",
    "    url = 'http://apps.webofknowledge.com' + x['href']\n",
    "    \n",
    "short = url.split('page')[0]\n",
    "\n",
    "for x in soup.find_all('td', 'goto'):\n",
    "    pn = x.text.split(' ')[-2]"
   ]
  },
  {
   "cell_type": "code",
   "execution_count": 7,
   "metadata": {},
   "outputs": [
    {
     "name": "stdout",
     "output_type": "stream",
     "text": [
      "60\n"
     ]
    }
   ],
   "source": [
    "print (pn)"
   ]
  },
  {
   "cell_type": "code",
   "execution_count": 9,
   "metadata": {},
   "outputs": [
    {
     "data": {
      "text/plain": [
       "(48, 46)"
      ]
     },
     "execution_count": 9,
     "metadata": {},
     "output_type": "execute_result"
    }
   ],
   "source": [
    "xm, ym"
   ]
  },
  {
   "cell_type": "code",
   "execution_count": 12,
   "metadata": {
    "collapsed": true
   },
   "outputs": [],
   "source": [
    "# sn = []\n",
    "# tk = []\n",
    "# tt = []\n",
    "\n",
    "for xm in range(49, int(pn)+1):\n",
    "    for ym in range(1, 51):\n",
    "        time.sleep(5)\n",
    "        nurl = short + 'page=' + str(xm)+ '&doc=' + str((xm - 1)*50 + ym)\n",
    "        \n",
    "        driver.get(nurl)\n",
    "        html = driver.page_source\n",
    "        soup = BeautifulSoup(html, \"html.parser\")\n",
    "        \n",
    "        keys = []\n",
    "        for x in soup.find_all('div', 'block-record-info'):\n",
    "            for y in x.find_all('div', 'title3'):\n",
    "                if 'word' in y.text:\n",
    "                    for z in x.find_all('p', 'FR_field'):\n",
    "                        keys.append(z.text) \n",
    "        tk.append(keys)\n",
    "        \n",
    "        nn = ''\n",
    "        for x in soup.find_all('div', 'block-record-info'):\n",
    "            for y in x.find_all('p', 'FR_field'):\n",
    "                if 'DOI' in y.text:\n",
    "                    nn = y.text\n",
    "        sn.append(nn)\n",
    "        \n",
    "        title = ''\n",
    "        for x in soup.find_all('div', 'title'):\n",
    "            title = x.text\n",
    "        tt.append(title)\n",
    "        \n",
    "    np.save('20190505_n_kw_' + str(xm) + '.npy', tk)\n",
    "    np.save('20190505_n_sn_' + str(xm) + '.npy', sn)\n",
    "    np.save('20190505_n_title_' + str(xm) + '.npy', tt)"
   ]
  },
  {
   "cell_type": "code",
   "execution_count": 11,
   "metadata": {
    "collapsed": true
   },
   "outputs": [],
   "source": [
    "# sn = []\n",
    "# tk = []\n",
    "# tt = []\n",
    "\n",
    "for xm in range(48, 49):\n",
    "    for ym in range(46, 51):\n",
    "        time.sleep(5)\n",
    "        nurl = short + 'page=' + str(xm)+ '&doc=' + str((xm - 1)*50 + ym)\n",
    "        \n",
    "        driver.get(nurl)\n",
    "        html = driver.page_source\n",
    "        soup = BeautifulSoup(html, \"html.parser\")\n",
    "        \n",
    "        keys = []\n",
    "        for x in soup.find_all('div', 'block-record-info'):\n",
    "            for y in x.find_all('div', 'title3'):\n",
    "                if 'word' in y.text:\n",
    "                    for z in x.find_all('p', 'FR_field'):\n",
    "                        keys.append(z.text) \n",
    "        tk.append(keys)\n",
    "        \n",
    "        nn = ''\n",
    "        for x in soup.find_all('div', 'block-record-info'):\n",
    "            for y in x.find_all('p', 'FR_field'):\n",
    "                if 'DOI' in y.text:\n",
    "                    nn = y.text\n",
    "        sn.append(nn)\n",
    "        \n",
    "        title = ''\n",
    "        for x in soup.find_all('div', 'title'):\n",
    "            title = x.text\n",
    "        tt.append(title)\n",
    "        \n",
    "    np.save('kw_' + str(xm) + '.npy', tk)\n",
    "    np.save('sn_' + str(xm) + '.npy', sn)\n",
    "    np.save('title_' + str(xm) + '.npy', tt)"
   ]
  },
  {
   "cell_type": "code",
   "execution_count": 19,
   "metadata": {
    "collapsed": true
   },
   "outputs": [],
   "source": [
    "urls = []\n",
    "\n",
    "for x in range(1, 2001):\n",
    "    for y in range(1, 51):\n",
    "        nurl = short + 'page=' + str(x)+ '&doc=' + str((x - 1)*50 + y)\n",
    "        urls.append(nurl)"
   ]
  },
  {
   "cell_type": "code",
   "execution_count": 13,
   "metadata": {},
   "outputs": [
    {
     "data": {
      "text/plain": [
       "(3005, 3005)"
      ]
     },
     "execution_count": 13,
     "metadata": {},
     "output_type": "execute_result"
    }
   ],
   "source": [
    "len(tk), len(sn), "
   ]
  },
  {
   "cell_type": "code",
   "execution_count": 197,
   "metadata": {},
   "outputs": [
    {
     "data": {
      "text/plain": [
       "(36, 19)"
      ]
     },
     "execution_count": 197,
     "metadata": {},
     "output_type": "execute_result"
    }
   ],
   "source": [
    "    np.save('kw_' + str(xm) + '.npy', tk)\n",
    "    np.save('sn_' + str(xm) + '.npy', sn)\n",
    "    np.save('title_' + str(xm) + '.npy', tt)"
   ]
  },
  {
   "cell_type": "code",
   "execution_count": 201,
   "metadata": {},
   "outputs": [
    {
     "data": {
      "text/plain": [
       "81"
      ]
     },
     "execution_count": 201,
     "metadata": {},
     "output_type": "execute_result"
    }
   ],
   "source": [
    "xm"
   ]
  },
  {
   "cell_type": "code",
   "execution_count": 25,
   "metadata": {
    "collapsed": true
   },
   "outputs": [],
   "source": [
    "soup = BeautifulSoup(response.text, \"html.parser\")"
   ]
  },
  {
   "cell_type": "code",
   "execution_count": 120,
   "metadata": {},
   "outputs": [
    {
     "name": "stdout",
     "output_type": "stream",
     "text": [
      "\n",
      "Author Keywords:Crowdshipping; On demand economy; Urban freight transport; City logistics; Discrete choice models; Stated preference\n",
      "\n",
      "\n",
      "KeyWords Plus:CHOICE; ACCEPTABILITY; PREFERENCES; CITY\n",
      "\n"
     ]
    }
   ],
   "source": [
    "t = 0\n",
    "keys = []\n",
    "\n",
    "for x in soup.find_all('div', 'block-record-info'):\n",
    "    for y in x.find_all('div', 'title3'):\n",
    "        if 'word' in y.text:\n",
    "            for z in x.find_all('p', 'FR_field'):\n",
    "#                 for o in z.find_all('a'):\n",
    "#                     print(o.text.title())  \n",
    "                    \n",
    "                print (z.text)"
   ]
  },
  {
   "cell_type": "code",
   "execution_count": 97,
   "metadata": {
    "scrolled": true
   },
   "outputs": [
    {
     "data": {
      "text/plain": [
       "<div class=\"block-record-info\"> <div class=\"title3\">Journal Information</div> <ul> </ul> <ul> <span id=\"links_isi_product_2\"></span> </ul></div>"
      ]
     },
     "execution_count": 97,
     "metadata": {},
     "output_type": "execute_result"
    }
   ],
   "source": [
    "x"
   ]
  },
  {
   "cell_type": "code",
   "execution_count": 144,
   "metadata": {
    "collapsed": true
   },
   "outputs": [],
   "source": [
    "sn = []\n",
    "\n",
    "for x in soup.find_all('div', 'block-record-info'):\n",
    "    for y in x.find_all('p', 'FR_field'):\n",
    "        if 'DOI' in y.text:\n",
    "            sn.append(y.text)"
   ]
  },
  {
   "cell_type": "code",
   "execution_count": 142,
   "metadata": {
    "collapsed": true
   },
   "outputs": [],
   "source": [
    "html = driver.page_source\n",
    "soup = BeautifulSoup(html, \"html.parser\")"
   ]
  },
  {
   "cell_type": "code",
   "execution_count": 145,
   "metadata": {},
   "outputs": [
    {
     "data": {
      "text/plain": [
       "['\\nDOI:10.1016/j.dib.2018.12.003']"
      ]
     },
     "execution_count": 145,
     "metadata": {},
     "output_type": "execute_result"
    }
   ],
   "source": [
    "sn"
   ]
  },
  {
   "cell_type": "code",
   "execution_count": 149,
   "metadata": {},
   "outputs": [
    {
     "data": {
      "text/plain": [
       "['\\nDOI:\\n10.1186/s12544-019-0352-x\\n',\n",
       " '\\nDOI:\\n10.1016/j.eswa.2019.01.001\\n',\n",
       " '\\nDOI:10.1016/j.dib.2018.12.003',\n",
       " '\\nDOI:\\n10.1016/j.envint.2019.01.044\\n',\n",
       " '\\nDOI:\\n10.1016/j.envint.2019.01.061\\n',\n",
       " '\\nDOI:\\n10.1016/j.envint.2019.01.053\\n',\n",
       " '\\nDOI:\\n10.1016/j.envint.2019.01.036\\n',\n",
       " '\\nDOI:\\n10.1016/j.envint.2019.01.075\\n',\n",
       " '\\nDOI:\\n10.1016/j.envint.2019.01.077\\n']"
      ]
     },
     "execution_count": 149,
     "metadata": {},
     "output_type": "execute_result"
    }
   ],
   "source": [
    "sn"
   ]
  },
  {
   "cell_type": "code",
   "execution_count": 153,
   "metadata": {},
   "outputs": [
    {
     "name": "stdout",
     "output_type": "stream",
     "text": [
      "\n",
      "Altered cord blood mitochondrial DNA content and pregnancy lead exposure in the PROGRESS cohort\n",
      "\n"
     ]
    }
   ],
   "source": [
    "for x in soup.find_all('div', 'title'):\n",
    "    print (x.text)"
   ]
  },
  {
   "cell_type": "code",
   "execution_count": 17,
   "metadata": {
    "collapsed": true
   },
   "outputs": [],
   "source": [
    "driver = webdriver.Chrome()"
   ]
  },
  {
   "cell_type": "code",
   "execution_count": 20,
   "metadata": {
    "collapsed": true
   },
   "outputs": [],
   "source": [
    "html = driver.page_source\n",
    "soup = BeautifulSoup(html, \"html.parser\")\n",
    "\n",
    "for x in soup.find_all('a', 'smallV110 snowplow-full-record'):\n",
    "    url = 'http://apps.webofknowledge.com' + x['href']\n",
    "    \n",
    "short = url.split('page')[0]\n",
    "\n",
    "for x in soup.find_all('td', 'goto'):\n",
    "    pn = x.text.split(' ')[-2]"
   ]
  },
  {
   "cell_type": "code",
   "execution_count": 21,
   "metadata": {
    "collapsed": true
   },
   "outputs": [],
   "source": [
    "sn = []\n",
    "tk = []\n",
    "tt = []\n",
    "urls = []\n",
    "\n",
    "for xm in range(1, 2):\n",
    "    for ym in range(1, 51):\n",
    "        time.sleep(5)\n",
    "        nurl = short + 'page=' + str(xm)+ '&doc=' + str((xm - 1)*50 + ym)\n",
    "        urls.append(nurl)\n",
    "        \n",
    "        driver.get(nurl)\n",
    "        html = driver.page_source\n",
    "        soup = BeautifulSoup(html, \"html.parser\")\n",
    "        \n",
    "        keys = []\n",
    "        for x in soup.find_all('div', 'block-record-info'):\n",
    "            for y in x.find_all('div', 'title3'):\n",
    "                if 'word' in y.text:\n",
    "                    for z in x.find_all('p', 'FR_field'):\n",
    "                        keys.append(z.text) \n",
    "        tk.append(keys)\n",
    "        \n",
    "        nn = ''\n",
    "        for x in soup.find_all('div', 'block-record-info'):\n",
    "            for y in x.find_all('p', 'FR_field'):\n",
    "                if 'DOI' in y.text:\n",
    "                    nn = y.text\n",
    "        sn.append(nn)\n",
    "        \n",
    "        title = ''\n",
    "        for x in soup.find_all('div', 'title'):\n",
    "            title = x.text\n",
    "        tt.append(title)\n",
    "        \n",
    "    np.save('hot_n_kw_' + str(xm) + '.npy', tk)\n",
    "    np.save('hot_n_sn_' + str(xm) + '.npy', sn)\n",
    "    np.save('hot_n_title_' + str(xm) + '.npy', tt)\n",
    "    np.save('hot_n_url_' + str(xm) + '.npy', urls)"
   ]
  },
  {
   "cell_type": "markdown",
   "metadata": {},
   "source": [
    "# Extract keywords"
   ]
  },
  {
   "cell_type": "code",
   "execution_count": 9,
   "metadata": {
    "collapsed": true
   },
   "outputs": [],
   "source": [
    "import numpy as np\n",
    "import inflect\n",
    "p = inflect.engine()\n",
    "kw = np.load('20190505_n_kw_60.npy')\n",
    "titles = np.load('20190505_n_title_60.npy')"
   ]
  },
  {
   "cell_type": "code",
   "execution_count": 10,
   "metadata": {},
   "outputs": [
    {
     "data": {
      "text/plain": [
       "(3005, 3005)"
      ]
     },
     "execution_count": 10,
     "metadata": {},
     "output_type": "execute_result"
    }
   ],
   "source": [
    "len(kw), len(titles)"
   ]
  },
  {
   "cell_type": "code",
   "execution_count": 11,
   "metadata": {
    "collapsed": true
   },
   "outputs": [],
   "source": [
    "kw = list(kw)"
   ]
  },
  {
   "cell_type": "code",
   "execution_count": 12,
   "metadata": {
    "collapsed": true
   },
   "outputs": [],
   "source": [
    "ol = []\n",
    "\n",
    "for x in range(len(kw)):\n",
    "    \n",
    "    words = kw[x]\n",
    "    for w in words:\n",
    "        s = (w.split(':')[1]).split(';')\n",
    "        for m in s:\n",
    "            nw = p.singular_noun(m.lower().strip('\\n').strip().replace('-', ' '))\n",
    "            if nw:\n",
    "                ol.append(nw)\n",
    "            else:\n",
    "                ol.append(m.lower().strip('\\n').strip().replace('-', ' '))"
   ]
  },
  {
   "cell_type": "code",
   "execution_count": null,
   "metadata": {
    "collapsed": true
   },
   "outputs": [],
   "source": []
  },
  {
   "cell_type": "code",
   "execution_count": 13,
   "metadata": {
    "collapsed": true
   },
   "outputs": [],
   "source": [
    "ul = list(set(ol))"
   ]
  },
  {
   "cell_type": "code",
   "execution_count": 14,
   "metadata": {},
   "outputs": [
    {
     "data": {
      "text/plain": [
       "13863"
      ]
     },
     "execution_count": 14,
     "metadata": {},
     "output_type": "execute_result"
    }
   ],
   "source": [
    "len(ul)"
   ]
  },
  {
   "cell_type": "code",
   "execution_count": 15,
   "metadata": {
    "collapsed": true
   },
   "outputs": [],
   "source": [
    "import collections as C"
   ]
  },
  {
   "cell_type": "code",
   "execution_count": 16,
   "metadata": {
    "collapsed": true
   },
   "outputs": [],
   "source": [
    "counter = C.Counter(ol)"
   ]
  },
  {
   "cell_type": "code",
   "execution_count": 17,
   "metadata": {
    "collapsed": true
   },
   "outputs": [],
   "source": [
    "n = []\n",
    "c = []\n",
    "\n",
    "for x in counter.most_common():\n",
    "    n.append(x[0])\n",
    "    c.append(x[1])"
   ]
  },
  {
   "cell_type": "code",
   "execution_count": 18,
   "metadata": {
    "collapsed": true
   },
   "outputs": [],
   "source": [
    "import pandas as pd\n",
    "d = pd.DataFrame()"
   ]
  },
  {
   "cell_type": "code",
   "execution_count": 19,
   "metadata": {
    "collapsed": true
   },
   "outputs": [],
   "source": [
    "d['keyword'] = n\n",
    "d['count'] = c"
   ]
  },
  {
   "cell_type": "code",
   "execution_count": 20,
   "metadata": {},
   "outputs": [
    {
     "data": {
      "text/html": [
       "<div>\n",
       "<style scoped>\n",
       "    .dataframe tbody tr th:only-of-type {\n",
       "        vertical-align: middle;\n",
       "    }\n",
       "\n",
       "    .dataframe tbody tr th {\n",
       "        vertical-align: top;\n",
       "    }\n",
       "\n",
       "    .dataframe thead th {\n",
       "        text-align: right;\n",
       "    }\n",
       "</style>\n",
       "<table border=\"1\" class=\"dataframe\">\n",
       "  <thead>\n",
       "    <tr style=\"text-align: right;\">\n",
       "      <th></th>\n",
       "      <th>keyword</th>\n",
       "      <th>count</th>\n",
       "    </tr>\n",
       "  </thead>\n",
       "  <tbody>\n",
       "    <tr>\n",
       "      <th>1</th>\n",
       "      <td>impact</td>\n",
       "      <td>136</td>\n",
       "    </tr>\n",
       "    <tr>\n",
       "      <th>2</th>\n",
       "      <td>china</td>\n",
       "      <td>99</td>\n",
       "    </tr>\n",
       "    <tr>\n",
       "      <th>3</th>\n",
       "      <td>model</td>\n",
       "      <td>83</td>\n",
       "    </tr>\n",
       "    <tr>\n",
       "      <th>4</th>\n",
       "      <td>prevalence</td>\n",
       "      <td>83</td>\n",
       "    </tr>\n",
       "    <tr>\n",
       "      <th>5</th>\n",
       "      <td>urbanization</td>\n",
       "      <td>76</td>\n",
       "    </tr>\n",
       "    <tr>\n",
       "      <th>6</th>\n",
       "      <td>system</td>\n",
       "      <td>76</td>\n",
       "    </tr>\n",
       "    <tr>\n",
       "      <th>7</th>\n",
       "      <td>air pollution</td>\n",
       "      <td>72</td>\n",
       "    </tr>\n",
       "    <tr>\n",
       "      <th>8</th>\n",
       "      <td>health</td>\n",
       "      <td>67</td>\n",
       "    </tr>\n",
       "    <tr>\n",
       "      <th>9</th>\n",
       "      <td>urban</td>\n",
       "      <td>63</td>\n",
       "    </tr>\n",
       "    <tr>\n",
       "      <th>10</th>\n",
       "      <td>smart city</td>\n",
       "      <td>62</td>\n",
       "    </tr>\n",
       "    <tr>\n",
       "      <th>11</th>\n",
       "      <td>management</td>\n",
       "      <td>62</td>\n",
       "    </tr>\n",
       "    <tr>\n",
       "      <th>12</th>\n",
       "      <td>exposure</td>\n",
       "      <td>56</td>\n",
       "    </tr>\n",
       "    <tr>\n",
       "      <th>13</th>\n",
       "      <td>performance</td>\n",
       "      <td>56</td>\n",
       "    </tr>\n",
       "    <tr>\n",
       "      <th>14</th>\n",
       "      <td>risk</td>\n",
       "      <td>54</td>\n",
       "    </tr>\n",
       "    <tr>\n",
       "      <th>15</th>\n",
       "      <td>pollution</td>\n",
       "      <td>51</td>\n",
       "    </tr>\n",
       "    <tr>\n",
       "      <th>16</th>\n",
       "      <td>area</td>\n",
       "      <td>50</td>\n",
       "    </tr>\n",
       "    <tr>\n",
       "      <th>17</th>\n",
       "      <td>quality</td>\n",
       "      <td>49</td>\n",
       "    </tr>\n",
       "    <tr>\n",
       "      <th>18</th>\n",
       "      <td>heavy metal</td>\n",
       "      <td>48</td>\n",
       "    </tr>\n",
       "    <tr>\n",
       "      <th>19</th>\n",
       "      <td>mortality</td>\n",
       "      <td>48</td>\n",
       "    </tr>\n",
       "    <tr>\n",
       "      <th>20</th>\n",
       "      <td>child</td>\n",
       "      <td>46</td>\n",
       "    </tr>\n",
       "    <tr>\n",
       "      <th>21</th>\n",
       "      <td>pattern</td>\n",
       "      <td>46</td>\n",
       "    </tr>\n",
       "    <tr>\n",
       "      <th>22</th>\n",
       "      <td>climate change</td>\n",
       "      <td>45</td>\n",
       "    </tr>\n",
       "    <tr>\n",
       "      <th>23</th>\n",
       "      <td>particulate matter</td>\n",
       "      <td>42</td>\n",
       "    </tr>\n",
       "    <tr>\n",
       "      <th>24</th>\n",
       "      <td>association</td>\n",
       "      <td>41</td>\n",
       "    </tr>\n",
       "    <tr>\n",
       "      <th>25</th>\n",
       "      <td>ecosystem service</td>\n",
       "      <td>40</td>\n",
       "    </tr>\n",
       "    <tr>\n",
       "      <th>26</th>\n",
       "      <td>risk factor</td>\n",
       "      <td>37</td>\n",
       "    </tr>\n",
       "    <tr>\n",
       "      <th>27</th>\n",
       "      <td>optimization</td>\n",
       "      <td>36</td>\n",
       "    </tr>\n",
       "    <tr>\n",
       "      <th>28</th>\n",
       "      <td>growth</td>\n",
       "      <td>36</td>\n",
       "    </tr>\n",
       "    <tr>\n",
       "      <th>29</th>\n",
       "      <td>pm2.5</td>\n",
       "      <td>35</td>\n",
       "    </tr>\n",
       "    <tr>\n",
       "      <th>30</th>\n",
       "      <td>sustainability</td>\n",
       "      <td>35</td>\n",
       "    </tr>\n",
       "    <tr>\n",
       "      <th>31</th>\n",
       "      <td>population</td>\n",
       "      <td>34</td>\n",
       "    </tr>\n",
       "    <tr>\n",
       "      <th>32</th>\n",
       "      <td>land use</td>\n",
       "      <td>34</td>\n",
       "    </tr>\n",
       "    <tr>\n",
       "      <th>33</th>\n",
       "      <td>policy</td>\n",
       "      <td>34</td>\n",
       "    </tr>\n",
       "    <tr>\n",
       "      <th>34</th>\n",
       "      <td>design</td>\n",
       "      <td>33</td>\n",
       "    </tr>\n",
       "    <tr>\n",
       "      <th>35</th>\n",
       "      <td>gi</td>\n",
       "      <td>33</td>\n",
       "    </tr>\n",
       "    <tr>\n",
       "      <th>36</th>\n",
       "      <td>disease</td>\n",
       "      <td>32</td>\n",
       "    </tr>\n",
       "    <tr>\n",
       "      <th>37</th>\n",
       "      <td>space</td>\n",
       "      <td>32</td>\n",
       "    </tr>\n",
       "    <tr>\n",
       "      <th>38</th>\n",
       "      <td>governance</td>\n",
       "      <td>32</td>\n",
       "    </tr>\n",
       "    <tr>\n",
       "      <th>39</th>\n",
       "      <td>temperature</td>\n",
       "      <td>31</td>\n",
       "    </tr>\n",
       "    <tr>\n",
       "      <th>40</th>\n",
       "      <td>simulation</td>\n",
       "      <td>31</td>\n",
       "    </tr>\n",
       "    <tr>\n",
       "      <th>41</th>\n",
       "      <td>framework</td>\n",
       "      <td>31</td>\n",
       "    </tr>\n",
       "    <tr>\n",
       "      <th>42</th>\n",
       "      <td>knowledge</td>\n",
       "      <td>31</td>\n",
       "    </tr>\n",
       "    <tr>\n",
       "      <th>43</th>\n",
       "      <td>dynamic</td>\n",
       "      <td>30</td>\n",
       "    </tr>\n",
       "    <tr>\n",
       "      <th>44</th>\n",
       "      <td>energy</td>\n",
       "      <td>30</td>\n",
       "    </tr>\n",
       "    <tr>\n",
       "      <th>45</th>\n",
       "      <td>community</td>\n",
       "      <td>30</td>\n",
       "    </tr>\n",
       "    <tr>\n",
       "      <th>46</th>\n",
       "      <td>physical activity</td>\n",
       "      <td>30</td>\n",
       "    </tr>\n",
       "    <tr>\n",
       "      <th>47</th>\n",
       "      <td>epidemiology</td>\n",
       "      <td>30</td>\n",
       "    </tr>\n",
       "    <tr>\n",
       "      <th>48</th>\n",
       "      <td>water</td>\n",
       "      <td>29</td>\n",
       "    </tr>\n",
       "    <tr>\n",
       "      <th>49</th>\n",
       "      <td>network</td>\n",
       "      <td>29</td>\n",
       "    </tr>\n",
       "    <tr>\n",
       "      <th>50</th>\n",
       "      <td>environment</td>\n",
       "      <td>29</td>\n",
       "    </tr>\n",
       "  </tbody>\n",
       "</table>\n",
       "</div>"
      ],
      "text/plain": [
       "               keyword  count\n",
       "1               impact    136\n",
       "2                china     99\n",
       "3                model     83\n",
       "4           prevalence     83\n",
       "5         urbanization     76\n",
       "6               system     76\n",
       "7        air pollution     72\n",
       "8               health     67\n",
       "9                urban     63\n",
       "10          smart city     62\n",
       "11          management     62\n",
       "12            exposure     56\n",
       "13         performance     56\n",
       "14                risk     54\n",
       "15           pollution     51\n",
       "16                area     50\n",
       "17             quality     49\n",
       "18         heavy metal     48\n",
       "19           mortality     48\n",
       "20               child     46\n",
       "21             pattern     46\n",
       "22      climate change     45\n",
       "23  particulate matter     42\n",
       "24         association     41\n",
       "25   ecosystem service     40\n",
       "26         risk factor     37\n",
       "27        optimization     36\n",
       "28              growth     36\n",
       "29               pm2.5     35\n",
       "30      sustainability     35\n",
       "31          population     34\n",
       "32            land use     34\n",
       "33              policy     34\n",
       "34              design     33\n",
       "35                  gi     33\n",
       "36             disease     32\n",
       "37               space     32\n",
       "38          governance     32\n",
       "39         temperature     31\n",
       "40          simulation     31\n",
       "41           framework     31\n",
       "42           knowledge     31\n",
       "43             dynamic     30\n",
       "44              energy     30\n",
       "45           community     30\n",
       "46   physical activity     30\n",
       "47        epidemiology     30\n",
       "48               water     29\n",
       "49             network     29\n",
       "50         environment     29"
      ]
     },
     "execution_count": 20,
     "metadata": {},
     "output_type": "execute_result"
    }
   ],
   "source": [
    "d[1:51]"
   ]
  },
  {
   "cell_type": "code",
   "execution_count": 21,
   "metadata": {
    "collapsed": true
   },
   "outputs": [],
   "source": [
    "import pandas as pd\n",
    "# d = pd.read_csv('20190506_city_50_keywords.csv')\n",
    "d = d.replace('gi', 'gis')\n",
    "d.to_csv('20190506_city_50_keywords.csv', index=False)"
   ]
  },
  {
   "cell_type": "code",
   "execution_count": 22,
   "metadata": {
    "collapsed": true
   },
   "outputs": [],
   "source": [
    "ad = {}\n",
    "\n",
    "for index, row in d[1:51].iterrows():\n",
    "    ad[row['keyword']] = []"
   ]
  },
  {
   "cell_type": "code",
   "execution_count": 24,
   "metadata": {
    "collapsed": true
   },
   "outputs": [],
   "source": [
    "# d"
   ]
  },
  {
   "cell_type": "code",
   "execution_count": 25,
   "metadata": {
    "collapsed": true
   },
   "outputs": [],
   "source": [
    "for x in range(len(kw)):\n",
    "    \n",
    "    words = kw[x]\n",
    "    for w in words:\n",
    "        s = (w.split(':')[1]).split(';')\n",
    "        for m in s:\n",
    "            nw = p.singular_noun(m.lower().strip('\\n').strip().replace('-', ' '))\n",
    "            if nw:\n",
    "                if nw in ad and len(ad[nw]) < 10:\n",
    "                    ad[nw].append(titles[x].replace('\\n', ''))\n",
    "            else:\n",
    "                if m.lower().strip('\\n').strip().replace('-', ' ') in ad and len(ad[m.lower().strip('\\n').strip().replace('-', ' ')]) < 10:\n",
    "                    ad[m.lower().strip('\\n').strip().replace('-', ' ')].append(titles[x].replace('\\n', ''))"
   ]
  },
  {
   "cell_type": "code",
   "execution_count": 28,
   "metadata": {},
   "outputs": [],
   "source": [
    "import json\n",
    "\n",
    "with open('20190506_all_info.json', 'w') as outfile:  \n",
    "    json.dump(out, outfile)"
   ]
  },
  {
   "cell_type": "code",
   "execution_count": 2,
   "metadata": {},
   "outputs": [],
   "source": [
    "import json\n",
    "\n",
    "with open('data/20190506_city_keywords_info.json', 'r') as outfile:  \n",
    "    data = json.load(outfile)"
   ]
  },
  {
   "cell_type": "code",
   "execution_count": 4,
   "metadata": {},
   "outputs": [],
   "source": [
    "out = {}\n",
    "out['articles'] = data "
   ]
  },
  {
   "cell_type": "code",
   "execution_count": 27,
   "metadata": {
    "collapsed": true
   },
   "outputs": [],
   "source": [
    "# out['nodes'] = oo\n",
    "out['links'] = oo.tolist()"
   ]
  },
  {
   "cell_type": "code",
   "execution_count": 16,
   "metadata": {},
   "outputs": [],
   "source": [
    "import pandas as pd\n",
    "x = pd.read_csv('data/20190506_city_top_50_matrix.csv')"
   ]
  },
  {
   "cell_type": "code",
   "execution_count": 22,
   "metadata": {},
   "outputs": [
    {
     "name": "stderr",
     "output_type": "stream",
     "text": [
      "/Users/gz/anaconda2/envs/py36/lib/python3.6/site-packages/ipykernel_launcher.py:1: FutureWarning: Method .as_matrix will be removed in a future version. Use .values instead.\n",
      "  \"\"\"Entry point for launching an IPython kernel.\n"
     ]
    }
   ],
   "source": [
    "oo = x.as_matrix()"
   ]
  },
  {
   "cell_type": "code",
   "execution_count": 25,
   "metadata": {},
   "outputs": [
    {
     "data": {
      "text/plain": [
       "{'articles': {'air pollution': ['ATMOSPHERIC ENVIRONMENTAL QUALITY ASSESSMENT METHOD BASED ON ANALYTIC HIERARCHY PROCESS',\n",
       "   'Vertical monitoring of traffic-related air pollution (TRAP) in urban street canyons of Hong Kong',\n",
       "   'The acute health effects of ozone and PM2.5 on daily cardiovascular disease mortality: A multi-center time series study in China',\n",
       "   'Impacts of the near-surface urban boundary layer structure on PM2.5 concentrations in Beijing during winter',\n",
       "   'Secondary organic aerosols in Jinan, an urban site in North China: Significant anthropogenic contributions to heavy pollution',\n",
       "   'Formation, characteristics, and applications of environmentally persistent free radicals in biochars: A review',\n",
       "   'Evaluating air quality by combining stationary, smart mobile pollution monitoring and data-driven modelling',\n",
       "   'The impact of ambient particulate matter on hospital outpatient visits for respiratory and circulatory system disease in an urban Chinese population',\n",
       "   'The impact of ambient particulate matter on hospital outpatient visits for respiratory and circulatory system disease in an urban Chinese population',\n",
       "   'Estimate of boundary-layer depth in Nanjing city using aerosol lidar data during 2016-2017 winter'],\n",
       "  'area': ['Improving the disaggregation of MODIS land surface temperatures in an urban environment: a statistical downscaling approach using high-resolution emissivity',\n",
       "   'Inventory of geo-hydrological phenomena in Genova municipality (NW Italy)',\n",
       "   'Evaluation of hexavalent chromium concentration in water and its health risk with a system dynamics model',\n",
       "   'Characterizing the spatial pattern of annual urban growth by using time series Landsat imagery',\n",
       "   'Exposure and risk assessment of PAHs in indoor air of waterpipe cafes in Ardebil, Iran',\n",
       "   'Reconstructing pre-fire vegetation condition in the wildland urban interface (WUI) using artificial neural network',\n",
       "   'Occurrence, Distribution, and Exposure Risk of Organophosphate Esters in Street Dust from Chengdu, China',\n",
       "   'Spatial distribution and risk assessment of heavy metals in contaminated paddy fields - A case study in Xiangtan City, southern China',\n",
       "   'Characterization and retrieval of snow and urban land cover parameters using hyperspectral imaging',\n",
       "   'A national analysis of the geographic aspects and ecological correlates of PM2.5 in China based on ground observational data'],\n",
       "  'association': ['Effects of Ethnic Identity on the Relationship Between Mental Health and Perceived Discrimination Among Ethnic Return Migrants: The Case of Korean Chinese Return-Migrated to South Korea',\n",
       "   'Enhanced exposure assessment and genome-wide DNA methylation in World Trade Center disaster responders',\n",
       "   \"The Impact of Graduates' Job Preferences on the Current Radiation Oncology Job Market\",\n",
       "   \"Childhood poly-victimization and children's health: A nationally representative study\",\n",
       "   'Does Prenatal Stress Shape Postnatal Resilience? - An Epigenome-Wide Study on Violence and Mental Health in Humans',\n",
       "   'Understanding hepatitis B, hepatitis C and HIV among people who inject drugs in South Africa: findings from a three-city cross-sectional survey',\n",
       "   'Social cohesion revisited: a new definition and how to characterize it',\n",
       "   'Self-reporting discrepancies of bullying victimization and perpetration measures',\n",
       "   'Inactive lifestyles in peri-urban Australia: A qualitative examination of social and physical environmental determinants',\n",
       "   'Relationships between urban green land cover and human health at different spatial resolutions'],\n",
       "  'child': [\"'Together apart' or 'apart together'? - middle-class parents' choice of playgrounds and playground interactions in socially diverse neighbourhoods\",\n",
       "   'Human metapneumovirus infection: Diagnostic impact of radiologic imaging',\n",
       "   'Epidemiological and molecular investigation of norovirus and astrovirus infections in Rio Branco, Acre, Northern Brazil: A retrospective study',\n",
       "   'Association between ambient air pollution and hospital admission for epilepsy in Eastern China',\n",
       "   'Household dampness-related exposures in relation to childhood asthma and rhinitis in China: A multicentre observational study',\n",
       "   'Genetic polymorphisms associated with pediatric-onset type 2 diabetes: A family-based transmission disequilibrium test and case-control study',\n",
       "   'HOspitalised Pneumonia Extended (HOPE) Study to reduce the long-term effects of childhood pneumonia: protocol for a multicentre, double-blind, parallel, superiority randomised controlled trial.',\n",
       "   'Prenatal Cadmium Exposure Is Negatively Associated With Adiposity in Girls Not Boys During Adolescence',\n",
       "   'Respiratory syncytial virus, human metapneumovirus, and influenza virus infection in Bangkok, 2016-2017',\n",
       "   'School Bullying and Post-traumatic Stress Disorder Symptoms: The Role of Parental Bonding'],\n",
       "  'china': ['Regional economic growth and the role of high-speed rail in China',\n",
       "   'An image layer difference index method to extract light area from NPP/VIIRS nighttime light monthly data',\n",
       "   'A long-term and comprehensive assessment of the urbanization-induced impacts on vegetation net primary productivity',\n",
       "   'Establish an environmentally sustainable Giant Panda National Park in the Qinling Mountains',\n",
       "   'Factors influencing behavior intentions to telehealth by Chinese elderly: An extended TAM model.',\n",
       "   'E-waste generation and management practices in Chandigarh, India and economic evaluation for sustainable recycling',\n",
       "   'Modeling Urban Spatial Expansion Considering Population Migration Interaction in Ezhou, Central China',\n",
       "   'Characterizing the spatial pattern of annual urban growth by using time series Landsat imagery',\n",
       "   'Epidemic Forest: A Spatiotemporal Model for Communicable Diseases',\n",
       "   'Association between ambient temperature and chronic obstructive pulmonary disease: a population-based study of the years of life lost'],\n",
       "  'climate change': ['Evaluating natural infrastructure for flood management within the watersheds of selected global cities',\n",
       "   'A long-term and comprehensive assessment of the urbanization-induced impacts on vegetation net primary productivity',\n",
       "   'Evaluation on development efficiency of low-carbon tourism economy: A case study of Hubei Province, China',\n",
       "   'Sources of dissolved organic carbon (DOC) in a mixed land use catchment (Exe, UK)',\n",
       "   'The role of air pollution and climate on the growth of urban trees',\n",
       "   'A multi-scale calibration approach for process-oriented aggregated building energy demand models',\n",
       "   \"Rural Ruins in America's Climate Change Story: Photojournalism, Perception, and Agency in Shishmaref, Alaska\",\n",
       "   'Exploration of the heterogeneous effect of climate change on ozone concentration in an urban environment',\n",
       "   'Developing transformative capacity through systematic assessments and visualization of urban climate transitions',\n",
       "   'Operationalizing the feedback between institutional decision-making, socio-political infrastructure, and environmental risk in urban vulnerability analysis.'],\n",
       "  'community': ['Local habitat heterogeneity determines the differences in benthic diatom metacommunities between different urban river types',\n",
       "   'Epidemiological and molecular investigation of norovirus and astrovirus infections in Rio Branco, Acre, Northern Brazil: A retrospective study',\n",
       "   'Analysis of genetic and serology of hepatitis A virus infection during and after outbreak in two junior high schools in Surabaya, Indonesia',\n",
       "   'Understanding of cardiovascular disease risk factors among Bangladeshi immigrants in New York City',\n",
       "   'Assessing neighborhood air pollution exposure and its relationship with the urban form',\n",
       "   'From starting stories to staying stories to leaving stories: the experiences of an urban English as a Second Language teacher',\n",
       "   \"Parents' Knowledge, Attitudes and Practices on Antibiotic Use by Children\",\n",
       "   'Urbanisation modulates plant-pollinator interactions in invasive vs. native plant species',\n",
       "   'Metabopolis: scalable network layout for biological pathway diagrams in urban map style',\n",
       "   'From potential to practical: conserving bees in urban public green spaces'],\n",
       "  'design': ['Outdoor thermal performance of heterogeneous urban environment: An indicator-based approach for climate-sensitive planning',\n",
       "   'Analyzing the thermal comfort conditions of outdoor spaces in a university campus in Kuala Lumpur, Malaysia',\n",
       "   'Pedestrian-level wind speed enhancement with void decks in three-dimensional urban street canyons',\n",
       "   'Impact of urban characteristics on cooling energy consumption before and after construction of an urban park: The case of Gyeongui line forest in Seoul',\n",
       "   'Green Infrastructure and the Hidden Politics of Urban Stormwater Governance in a Postindustrial City',\n",
       "   'Strategic network expansion of urban rapid transit systems: A bi-objective programming model',\n",
       "   'Outdoor thermal comfort in different urban settings of sub-tropical high-density cities: An approach of adopting local climate zone (LCZ) classification',\n",
       "   'A study on parking supply optimization in central business districts considering the two-way interaction between car traveling and parking',\n",
       "   'Portfolio optimization of energy communities to meet reductions in costs and emissions',\n",
       "   'Metabopolis: scalable network layout for biological pathway diagrams in urban map style'],\n",
       "  'disease': ['The association between cold spells and admissions of ischemic stroke in Hefei, China: Modified by gender and age',\n",
       "   'Human metapneumovirus in Pediatric Patients with Acute Respiratory Tract Infections in the Aseer Region of Saudi Arabia',\n",
       "   'Use of standardised patients to assess gender differences in quality of tuberculosis care in urban India: a two-city, cross-sectional study',\n",
       "   'Omega-3 index in the Czech Republic: No difference between urban and rural populations',\n",
       "   'Does Prenatal Stress Shape Postnatal Resilience? - An Epigenome-Wide Study on Violence and Mental Health in Humans',\n",
       "   'Study on the multivariate prediction model and exposure level of indoor and outdoor particulate concentration in severe cold region of China',\n",
       "   'Respiratory syncytial virus, human metapneumovirus, and influenza virus infection in Bangkok, 2016-2017',\n",
       "   'Macrolides in critically ill patients with Middle East Respiratory Syndrome',\n",
       "   'Health beliefs and behaviours in relation to sexually transmitted infections among South Korean juvenile offenders: A focused ethnography study',\n",
       "   'Hepatitis C prevalence and associated risk factors among individuals who are homeless and diagnosed with mental illness: At Home/Chez Soi Study, Vancouver, BC'],\n",
       "  'dynamic': ['An image layer difference index method to extract light area from NPP/VIIRS nighttime light monthly data',\n",
       "   'Collapse and failure of ancient agricultural stone terraces: On-site geomorphic processes, pedogenic mechanisms, and soil quality',\n",
       "   'Epidemic Forest: A Spatiotemporal Model for Communicable Diseases',\n",
       "   \"Valuing urban green spaces in mitigating climate change: A city-wide estimate of aboveground carbon stored in urban green spaces of China's Capital\",\n",
       "   'Modeling chickenpox disease with fractional derivatives: From caputo to atangana-baleanu',\n",
       "   'Mapping Global Urban Areas From 2000 to 2012 Using Time-Series Nighttime Light Data and MODIS Products',\n",
       "   'Regional convergence clubs in China: identification and conditioning factors',\n",
       "   'Management and restoration of dune lakes in Veracruz, Gulf of Mexico',\n",
       "   'The effect of urbanization gradients and forest types on microclimatic regulation by trees, in association with climate, tree sizes and species compositions in Harbin city, northeastern China',\n",
       "   'Replication and virulence in pigs of the first African swine fever virus isolated in China'],\n",
       "  'ecosystem service': ['Evaluating natural infrastructure for flood management within the watersheds of selected global cities',\n",
       "   'Ticks and tick-borne diseases in the city: Role of landscape connectivity and green space characteristics in a metropolitan area',\n",
       "   'Study on eco-compensation standard for adjacent administrative districts based on the maximum entropy production',\n",
       "   'Response of agricultural multifunctionality to farmland loss under rapidly urbanizing processes in Yangtze River Delta, China',\n",
       "   'Response of agricultural multifunctionality to farmland loss under rapidly urbanizing processes in Yangtze River Delta, China',\n",
       "   'The role of air pollution and climate on the growth of urban trees',\n",
       "   'Green Infrastructure and the Hidden Politics of Urban Stormwater Governance in a Postindustrial City',\n",
       "   'Trace and major element contents, microbial communities, and enzymatic activities of urban soils of Marrakech city along an anthropization gradient',\n",
       "   'Difference of Airborne Particulate Matter Concentration in Urban Space with Different Green Coverage Rates in Baoji, China.',\n",
       "   'Scale-dependent interactions between tree canopy cover and impervious surfaces reduce daytime urban heat during summer'],\n",
       "  'energy': ['Spatial-temporal variations of surface urban heat island intensity induced by different definitions of rural extents in China',\n",
       "   'Outdoor thermal performance of heterogeneous urban environment: An indicator-based approach for climate-sensitive planning',\n",
       "   'A robust inexact trapezoidal T2 fuzzy approach coupling possibility degrees for solid waste disposal allocation with integrated optimal greenhouse gas control under uncertainty',\n",
       "   'Temporal Assessment of the Embodied Greenhouse Gas Emissions of a Toronto Streetcar Line',\n",
       "   'Changes of urban nitrogen metabolism in the Beijing megacity of China, 2000-2016',\n",
       "   'An energy efficient IPv6 packet delivery scheme for industrial IoT over G.9959 protocol based Wireless Sensor Network (WSN)',\n",
       "   'Thinking critically about smart city experimentation: entrepreneurialism and responsibilization in urban living labs',\n",
       "   'Analysis of gas network storage capacity for alternative fuels in Poland',\n",
       "   'Numerical investigation of phase change material thermal storage for space cooling',\n",
       "   'Urban green space cooling effect in cities.'],\n",
       "  'environment': ['The role of air pollution and climate on the growth of urban trees',\n",
       "   'The smart grid as commons: Exploring alternatives to infrastructure financialisation',\n",
       "   'Residential location choice in a developing country: What matter? A choice experiment application in Burkina Faso',\n",
       "   'Experiences of School as a Mediator between Interpersonal Competence and Happiness in Adolescents',\n",
       "   'Influence of Urbanization on Epiphytic Bacterial Communities of the Platanus x hispanica Tree Leaves in a Biennial Study',\n",
       "   \"Regional sustainability system as ecosystem: case study of China's two leading economic circles from a keystone perspective\",\n",
       "   'Loss of urban forest canopy and the effects on neighborhood soundscapes',\n",
       "   'Analyzing the Dimensionality of Place Attachment and Its Relationship with Residential Satisfaction in New Cities: The Case of Sadra, Iran',\n",
       "   'Residential Greenery: State of the Art and Health-Related Ecosystem Services and Disservices in the City of Berlin',\n",
       "   'Effects of Spatial Pattern of Forest Vegetation on Urban Cooling in a Compact Megacity'],\n",
       "  'epidemiology': ['Use of mental health services by community-resident adults with DSM-IV anxiety and mood disorders in a violence-prone area: Sao Paulo, Brazil',\n",
       "   'Human metapneumovirus in Pediatric Patients with Acute Respiratory Tract Infections in the Aseer Region of Saudi Arabia',\n",
       "   'Wastewater analysis reveals spatial pattern in consumption of anti-diabetes drug metformin in China',\n",
       "   'Association Between Neighborhood Income, Patterns of Use, and Physical Activity Levels in Fitness Zones of Curitiba, Brazil.',\n",
       "   'Prevalence of Helicobacter pylori infection in Latin America and the Caribbean populations: A systematic review and meta-analysis.',\n",
       "   'Incidence and excess mortality of hip fractures in a predominantly Caucasian population in the South of Brazil',\n",
       "   'Incidence and excess mortality of hip fractures in a predominantly Caucasian population in the South of Brazil',\n",
       "   'Acute seizure epidemiology in a neurological emergency department',\n",
       "   'Respiratory syncytial virus, human metapneumovirus, and influenza virus infection in Bangkok, 2016-2017',\n",
       "   'Respiratory syncytial virus, human metapneumovirus, and influenza virus infection in Bangkok, 2016-2017'],\n",
       "  'exposure': ['Impacts of traffic noise on roadside secondary schools in a prototype large Chinese city',\n",
       "   'Anomalous events removal for automated traffic noise maps generation',\n",
       "   'ATMOSPHERIC ENVIRONMENTAL QUALITY ASSESSMENT METHOD BASED ON ANALYTIC HIERARCHY PROCESS',\n",
       "   'PM2.5- and PM10-bound polycyclic aromatic hydrocarbons (PAHs) in the residential area near coal-fired power and steelmaking plants of Taichung City, Taiwan: In vitro-based health risk and source identification',\n",
       "   'The acute health effects of ozone and PM2.5 on daily cardiovascular disease mortality: A multi-center time series study in China',\n",
       "   'Evaluation of hexavalent chromium concentration in water and its health risk with a system dynamics model',\n",
       "   'The impact of ambient particulate matter on hospital outpatient visits for respiratory and circulatory system disease in an urban Chinese population',\n",
       "   'PCDDs, PCDFs and PCBs in locally produced foods as health risk factors in Silesia Province, Poland',\n",
       "   'Exhaled carbon monoxide levels correlate with incidence of oral mucosal lesions independent of smoking status',\n",
       "   'Association between ambient air pollution and hospital admission for epilepsy in Eastern China'],\n",
       "  'framework': ['Ecosystem-based management revisited: Updating the concepts for urban forests',\n",
       "   'Mutational analysis of CFTR in the Ecuadorian population using next-generation sequencing',\n",
       "   'Transformative capacity and local action for urban sustainability',\n",
       "   'Balancing diversity and connectivity in multi-level governance settings for urban transformative capacity',\n",
       "   'Assessing transformative capacity for sustainable urban regeneration: A comparative study of three South Korean cities',\n",
       "   'Building transformative capacity for adaptation planning and implementation that works for the urban poor: Insights from South Africa',\n",
       "   'Building actor-centric transformative capacity through city-university partnerships',\n",
       "   'Introducing Phenomenological Research Methodology in Sustainable Consumption Literature: Illustrations From India',\n",
       "   'Utilization and load balancing in fog servers for health applications',\n",
       "   'Buildings and wood trade in Aix-en-Provence (South of France) during the Modern period'],\n",
       "  'gis': [],\n",
       "  'governance': ['Ecosystem-based management revisited: Updating the concepts for urban forests',\n",
       "   'Funding, financing and governing urban infrastructures',\n",
       "   'The financialisation of urban infrastructure: A framework of analysis',\n",
       "   'Keeping financialisation under the radar: Brussels Airport, Macquarie Bank and the Belgian politics of privatised infrastructure',\n",
       "   'Keeping financialisation under the radar: Brussels Airport, Macquarie Bank and the Belgian politics of privatised infrastructure',\n",
       "   'The smart grid as commons: Exploring alternatives to infrastructure financialisation',\n",
       "   'The financialising local growth machine in Chicago',\n",
       "   'The financialising local growth machine in Chicago',\n",
       "   \"'Deal or no deal?' Governing urban infrastructure funding and financing in the UK City Deals\",\n",
       "   \"'Deal or no deal?' Governing urban infrastructure funding and financing in the UK City Deals\"],\n",
       "  'growth': ['Modeling Urban Spatial Expansion Considering Population Migration Interaction in Ezhou, Central China',\n",
       "   'Will the Development of a High-Speed Railway Have Impacts on Land Use Patterns in China?',\n",
       "   'Using fractals and multifractals to characterize the spatiotemporal pattern of impervious surfaces in a coastal city: Xiamen, China',\n",
       "   'Prenatal Cadmium Exposure Is Negatively Associated With Adiposity in Girls Not Boys During Adolescence',\n",
       "   'Skill concentration and persistence in Brazil',\n",
       "   'The implications of fiscal decentralization and budget governance on economic capacity and community welfare',\n",
       "   'The utilization of fruit and vegetable wastes for bioethanol production with the inoculation of indigenous yeasts consortium',\n",
       "   'Will land development time restriction reduce land price? The perspective of American call options',\n",
       "   'Quantifying the spatial arrangement of underutilized land in a rapidly urbanized rust belt city: The case of Changchun City',\n",
       "   'Regional convergence clubs in China: identification and conditioning factors'],\n",
       "  'health': ['Variations in cardiovascular risk factors in people with and without migration background in Germany - Results from the STAAB cohort study',\n",
       "   'Are land values related to ambient air pollution levels? Hedonic evidence from Mexico City',\n",
       "   'Urban makeovers, homeless encampments, and the aesthetics of displacement',\n",
       "   'Changing surveillance objectives during the different phases of an emerging vector-borne disease outbreak: The Schmallenberg virus example',\n",
       "   'Factor Structure for Chronic Stress Before and During Pregnancy by Racial/Ethnic Group',\n",
       "   \"Childhood poly-victimization and children's health: A nationally representative study\",\n",
       "   'Community-based structural social capital and depressive symptoms of older urban Chinese adults: The mediating role of cognitive social capital',\n",
       "   'Applying the concept of \"number needed to treat\" to the formulation of daily ambient air quality standards',\n",
       "   'What Prompts Policy Change? Comparative Analyses of Efforts to Create Age-Friendly Cities in 14 Cities in Indonesia.',\n",
       "   'Characterization of PM2.5-bound PAHs and carbonaceous aerosols during three-month severe haze episode in Shanghai, China: Chemical composition, source apportionment and long-range transportation'],\n",
       "  'heavy metal': ['Occurrence and distribution of antibiotics and antibiotic resistant genes in water and sediments of urban rivers with black-odor water in Guangzhou, South China',\n",
       "   'Occurrence and distribution of antibiotics and antibiotic resistant genes in water and sediments of urban rivers with black-odor water in Guangzhou, South China',\n",
       "   'Anthropogenic atmospheric toxic metals emission inventory and its spatial characteristics in Guangdong province, China',\n",
       "   'Establish an environmentally sustainable Giant Panda National Park in the Qinling Mountains',\n",
       "   'Establish an environmentally sustainable Giant Panda National Park in the Qinling Mountains',\n",
       "   'Status, source, ecological and health risk assessment of toxic metals and polycyclic aromatic hydrocarbons (PAHs) in street dust of Abadan, Iran',\n",
       "   'E-waste generation and management practices in Chandigarh, India and economic evaluation for sustainable recycling',\n",
       "   'The Evaluation of Air Quality in Albania by Moss Biomonitoring and Metals Atmospheric Deposition',\n",
       "   'Metals Uptake from Particulate Matter Through Foliar Transfer and Their Impact on Antioxidant Enzymes Activity of S. robusta in a Tropical Forest, West Bengal, India',\n",
       "   'The Effect of Urbanization on Trace Element Concentration and Symmetry of Woodlice (Armadillidium vulgare Latreille, 1804)'],\n",
       "  'impact': ['Regional economic growth and the role of high-speed rail in China',\n",
       "   'Evaluating natural infrastructure for flood management within the watersheds of selected global cities',\n",
       "   'Simulation of urban boundary and canopy layer flows in port areas induced by different marine boundary layer inflow conditions',\n",
       "   'Establish an environmentally sustainable Giant Panda National Park in the Qinling Mountains',\n",
       "   'Temporal Assessment of the Embodied Greenhouse Gas Emissions of a Toronto Streetcar Line',\n",
       "   'Response of agricultural multifunctionality to farmland loss under rapidly urbanizing processes in Yangtze River Delta, China',\n",
       "   'Increased susceptibility to heat for respiratory hospitalizations in Hong Kong',\n",
       "   'Characterizing the spatial pattern of annual urban growth by using time series Landsat imagery',\n",
       "   'Changes of urban nitrogen metabolism in the Beijing megacity of China, 2000-2016',\n",
       "   'Analyzing the thermal comfort conditions of outdoor spaces in a university campus in Kuala Lumpur, Malaysia'],\n",
       "  'knowledge': ['Understanding of cardiovascular disease risk factors among Bangladeshi immigrants in New York City',\n",
       "   'From starting stories to staying stories to leaving stories: the experiences of an urban English as a Second Language teacher',\n",
       "   'Balancing diversity and connectivity in multi-level governance settings for urban transformative capacity',\n",
       "   \"Parents' Knowledge, Attitudes and Practices on Antibiotic Use by Children\",\n",
       "   'Evaluation of innovative ideas for Public Transport proposed by citizens using Multi-Criteria Decision Analysis (MCDA)',\n",
       "   'Asthma management in New York City schools: A physical education teacher perspective',\n",
       "   'Equality of opportunity for work experience? Computing students at two UK universities \"play the game\"',\n",
       "   'Creating a Market Where There Is None: Spatial Practices of Street Vendors in Dar es Salaam, Tanzania',\n",
       "   'Getting by in the street system: Street dwellers, concepts and practices',\n",
       "   'Predictive Power of PEN-3 Model Constructs in Breast Cancer Screening Behaviors among Teachers: A Cross-Sectional Study in Central Iran'],\n",
       "  'land use': ['Outdoor thermal performance of heterogeneous urban environment: An indicator-based approach for climate-sensitive planning',\n",
       "   'Modeling Urban Spatial Expansion Considering Population Migration Interaction in Ezhou, Central China',\n",
       "   'Clustering Analysis of Ridership Patterns at Subway Stations: A Case in Nanjing, China',\n",
       "   \"Valuing urban green spaces in mitigating climate change: A city-wide estimate of aboveground carbon stored in urban green spaces of China's Capital\",\n",
       "   'Proximity to metro stations and commercial gentrification',\n",
       "   'CO2 emissions, urbanisation and economic growth: evidence from Asian countries',\n",
       "   'Mapping Global Urban Areas From 2000 to 2012 Using Time-Series Nighttime Light Data and MODIS Products',\n",
       "   'Will land development time restriction reduce land price? The perspective of American call options',\n",
       "   'Guide for using green infrastructure in urban environments for stormwater management',\n",
       "   'Structural landscape changes in urban and peri-urban agricultural systems of two West African cities and their relations to ecosystem services provided by woody plant communities'],\n",
       "  'management': ['ATMOSPHERIC ENVIRONMENTAL QUALITY ASSESSMENT METHOD BASED ON ANALYTIC HIERARCHY PROCESS',\n",
       "   'Variations in cardiovascular risk factors in people with and without migration background in Germany - Results from the STAAB cohort study',\n",
       "   'A robust inexact trapezoidal T2 fuzzy approach coupling possibility degrees for solid waste disposal allocation with integrated optimal greenhouse gas control under uncertainty',\n",
       "   'Ecosystem-based management revisited: Updating the concepts for urban forests',\n",
       "   'Reconstructing pre-fire vegetation condition in the wildland urban interface (WUI) using artificial neural network',\n",
       "   \"Tourists' space-time behavior in heritage places: Comparing guided and nonguided visitors\",\n",
       "   'Urban transformative capacity: From concept to practice',\n",
       "   'Developing transformative capacity through systematic assessments and visualization of urban climate transitions',\n",
       "   '6-Month Outcomes of Tricuspid Valve Reconstruction for Patients With Severe Tricuspid Regurgitation',\n",
       "   'SURVIVOR: A blockchain based edge-as-a-service framework for secure energy trading in SDN-enabled vehicle-to-grid environment'],\n",
       "  'model': ['Anomalous events removal for automated traffic noise maps generation',\n",
       "   'ATMOSPHERIC ENVIRONMENTAL QUALITY ASSESSMENT METHOD BASED ON ANALYTIC HIERARCHY PROCESS',\n",
       "   'Seismic vulnerability assessment for the historical areas of the Timisoara city, Romania',\n",
       "   'Simulation of urban boundary and canopy layer flows in port areas induced by different marine boundary layer inflow conditions',\n",
       "   'Evaluating Metropolitan Flood Coping Capabilities under Heavy Storms',\n",
       "   'Estimating Queue Length for Contraflow Left-Turn Lane Design at Signalized Intersections',\n",
       "   'Multitasking during Travel in Mumbai, India: Effect of Satiation in Heterogeneous Urban Settings',\n",
       "   'The financialisation of urban infrastructure: A framework of analysis',\n",
       "   'Proximity to metro stations and commercial gentrification',\n",
       "   'Real-data-based high-resolution GHG emissions accounting of urban residents private transportation'],\n",
       "  'mortality': ['PM2.5- and PM10-bound polycyclic aromatic hydrocarbons (PAHs) in the residential area near coal-fired power and steelmaking plants of Taichung City, Taiwan: In vitro-based health risk and source identification',\n",
       "   'The acute health effects of ozone and PM2.5 on daily cardiovascular disease mortality: A multi-center time series study in China',\n",
       "   'The association between cold spells and admissions of ischemic stroke in Hefei, China: Modified by gender and age',\n",
       "   'Increased susceptibility to heat for respiratory hospitalizations in Hong Kong',\n",
       "   'Understanding of cardiovascular disease risk factors among Bangladeshi immigrants in New York City',\n",
       "   'The relationship between indoor and outdoor temperature in warm and cool seasons in houses in Brisbane, Australia',\n",
       "   'Association between ambient temperature and chronic obstructive pulmonary disease: a population-based study of the years of life lost',\n",
       "   'Use of standardised patients to assess gender differences in quality of tuberculosis care in urban India: a two-city, cross-sectional study',\n",
       "   'Evaluation of the impact of the Rio 2016 Olympic Games on air quality in the city of Rio de Janeiro, Brazil',\n",
       "   'Pollution characteristics of metal pollutants in PM2.5 and comparison of risk on human health in heating and non-heating seasons in Baoding, China'],\n",
       "  'network': ['Evaluating air quality by combining stationary, smart mobile pollution monitoring and data-driven modelling',\n",
       "   'Epidemic Forest: A Spatiotemporal Model for Communicable Diseases',\n",
       "   'Rethinking water insecurity, inequality and infrastructure through an embodied urban political ecology',\n",
       "   'Stochastic model genetic programming: Deriving pricing equations for rainfall weather derivatives',\n",
       "   'To move or to stay in a migrant enclave in Beijing: The role of neighborhood social bonds',\n",
       "   'Variation in MERRA-2 aerosol optical depth over the Yangtze River Delta from 1980 to 2016',\n",
       "   'How to prioritize protected areas: A novel perspective using multidimensional land use characteristics',\n",
       "   'Limiting Alcohol Outlet Density to Prevent Alcohol Use and Violence: Estimating Policy Interventions Through Agent-Based Modeling',\n",
       "   'Estimation of atmospheric turbidity over Adrar city in Algeria',\n",
       "   \"How 'global' are investment banks? An analysis of investment banking networks in Asian equity capital markets\"],\n",
       "  'optimization': ['Estimating Queue Length for Contraflow Left-Turn Lane Design at Signalized Intersections',\n",
       "   'Combination and placement of sustainable drainage system devices based on zero-one integer programming and schemes sampling',\n",
       "   'Strategic network expansion of urban rapid transit systems: A bi-objective programming model',\n",
       "   'Reliable simulation-optimization of traffic lights in a real-world city',\n",
       "   'Wastewater analysis reveals spatial pattern in consumption of anti-diabetes drug metformin in China',\n",
       "   'Impact of commercial land mixture on energy and environmental performance of mixed use neighbourhoods',\n",
       "   'Googling Boundaries for Operating Mobile Stroke Unit for Stroke Codes',\n",
       "   'Integration of Satellite Images and Open Data for Impervious Surface Classification',\n",
       "   'Optimal operation of interbasin water transfer multireservoir systems: an empirical analysis from China',\n",
       "   'Optimal operation of interbasin water transfer multireservoir systems: an empirical analysis from China'],\n",
       "  'particulate matter': ['PM2.5- and PM10-bound polycyclic aromatic hydrocarbons (PAHs) in the residential area near coal-fired power and steelmaking plants of Taichung City, Taiwan: In vitro-based health risk and source identification',\n",
       "   'Vertical monitoring of traffic-related air pollution (TRAP) in urban street canyons of Hong Kong',\n",
       "   'The acute health effects of ozone and PM2.5 on daily cardiovascular disease mortality: A multi-center time series study in China',\n",
       "   'The role of air pollution and climate on the growth of urban trees',\n",
       "   'Exposure and risk assessment of PAHs in indoor air of waterpipe cafes in Ardebil, Iran',\n",
       "   'Exploration of the heterogeneous effect of climate change on ozone concentration in an urban environment',\n",
       "   'Enhanced exposure assessment and genome-wide DNA methylation in World Trade Center disaster responders',\n",
       "   'Association between ambient air pollution and hospital admission for epilepsy in Eastern China',\n",
       "   'Water-soluble ions in dust particles depending on meteorological conditions in urban environment',\n",
       "   'Elemental characterization and source identification of the near-road PM2.5 using EDXRF in Chengdu, China'],\n",
       "  'pattern': ['Response of agricultural multifunctionality to farmland loss under rapidly urbanizing processes in Yangtze River Delta, China',\n",
       "   'PCDDs, PCDFs and PCBs in locally produced foods as health risk factors in Silesia Province, Poland',\n",
       "   'Epidemic Forest: A Spatiotemporal Model for Communicable Diseases',\n",
       "   'Use of mental health services by community-resident adults with DSM-IV anxiety and mood disorders in a violence-prone area: Sao Paulo, Brazil',\n",
       "   'Child maltreatment and alcohol outlets in Spain: Does the country drinking culture matters?',\n",
       "   'The Action Is Everywhere, But Greater at More Localized Spatial Scales: Comparing Concentrations of Crime across Addresses, Streets, and Neighborhoods',\n",
       "   'Fundamentals on Base Stations in Urban Cellular Networks: From the Perspective of Algebraic Topology',\n",
       "   'Understanding the complex seasonality of seasonal influenza A and B virus transmission: Evidence from six years of surveillance data in Shanghai, China',\n",
       "   'Associations between drug use patterns and viral load suppression among HIV-positive individuals who use support services in New York City',\n",
       "   'Childhood urbanicity and hair steroid hormone levels in ten-year-old children'],\n",
       "  'performance': ['Impacts of traffic noise on roadside secondary schools in a prototype large Chinese city',\n",
       "   'Analyzing the thermal comfort conditions of outdoor spaces in a university campus in Kuala Lumpur, Malaysia',\n",
       "   'Thermodynamic Analysis of Municipal Solid Waste Gasification Under Isothermal and Adiabatic Conditions by a Gibbs Free Energy Minimization Model',\n",
       "   'Cultural Tourism Clusters: Social Capital, Relations with Institutions, and Radical Innovation',\n",
       "   'Assessment of PM2.5 monitoring using MicroPEM: A validation study in a city with elevated PM2.5 levels',\n",
       "   'Portfolio optimization of energy communities to meet reductions in costs and emissions',\n",
       "   'Business centre or bedroom community? The development of employment in small and medium-sized towns',\n",
       "   'Assessment of collaboration in city logistics: From the aspects of profit and CO2 emissions',\n",
       "   'Impact of supportive housing on substance use-related health care utilization among homeless persons who are active substance users',\n",
       "   'Street fighters: Bite force, injury rates, and density of urban Australian water dragons (Intellagama lesueurii)'],\n",
       "  'physical activity': ['Greenspace, physical activity, and BMI in children from two cities in northern Mexico.',\n",
       "   'Understanding of cardiovascular disease risk factors among Bangladeshi immigrants in New York City',\n",
       "   'Feasibility of a Bike-Share Program in Adults With Serious Mental Illness Enrolled in an Outpatient Psychiatric Rehabilitation Program.',\n",
       "   'Neighborhood Recreation Facilities and Facility Membership Are Jointly Associated with Objectively Measured Physical Activity.',\n",
       "   'Are preschool children active enough in Shanghai: an accelerometer-based cross-sectional study.',\n",
       "   'Social cohesion revisited: a new definition and how to characterize it',\n",
       "   'Asthma management in New York City schools: A physical education teacher perspective',\n",
       "   'Inactive lifestyles in peri-urban Australia: A qualitative examination of social and physical environmental determinants',\n",
       "   'Association between obesity in 4- to 7-year-old children and eight types of crime: a hierarchical linear modelling approach',\n",
       "   'Food, Health, & Choices: Curriculum and Wellness Interventions to Decrease Childhood Obesity in Fifth-Graders'],\n",
       "  'pm2.5': ['A framework for investigating the air quality variation characteristics based on the monitoring data: Case study for Beijing during 2013-2016',\n",
       "   'Vertical monitoring of traffic-related air pollution (TRAP) in urban street canyons of Hong Kong',\n",
       "   'Alveolar macrophage reaction to PM2.5 of hazy day in vitro: Evaluation methods and mitochondrial screening to determine mechanisms of biological effect',\n",
       "   'Impacts of the near-surface urban boundary layer structure on PM2.5 concentrations in Beijing during winter',\n",
       "   'The impact of ambient particulate matter on hospital outpatient visits for respiratory and circulatory system disease in an urban Chinese population',\n",
       "   'Process analysis of PM2.5 pollution events in a coastal city of China using CMAQ',\n",
       "   'New two-step extraction method in antimony speciation using HPLC-ICP-MS technique in inhalable particulate matter (PM2.5)',\n",
       "   'Water-soluble ions in dust particles depending on meteorological conditions in urban environment',\n",
       "   'Dependence of urban air pollutants on morning/evening peak hours and seasons',\n",
       "   'The carbonaceous aerosol levels still remain a challenge in the Beijing-Tianjin-Hebei region of China: Insights from continuous high temporal resolution measurements in multiple cities'],\n",
       "  'policy': ['Modeling Urban Spatial Expansion Considering Population Migration Interaction in Ezhou, Central China',\n",
       "   'Urban Assemblages, (In)formality, and Housing in the Global North',\n",
       "   'The financialising local growth machine in Chicago',\n",
       "   'A soft traffic management approach for achieving environmentally sustainable and economically viable outcomes: An Australian case study',\n",
       "   'Assessing transformative capacity for sustainable urban regeneration: A comparative study of three South Korean cities',\n",
       "   'Where Does Telemedicine Achieve a Cost Reduction Effect? Cost Minimization Analysis of Teleradiology Services in Japan',\n",
       "   'What Prompts Policy Change? Comparative Analyses of Efforts to Create Age-Friendly Cities in 14 Cities in Indonesia.',\n",
       "   'The implications of fiscal decentralization and budget governance on economic capacity and community welfare',\n",
       "   'The Impact of a Non-profit Market on Food Store Choice and Shopping Experience: A Community Case Study',\n",
       "   'Business centre or bedroom community? The development of employment in small and medium-sized towns'],\n",
       "  'pollution': ['A framework for investigating the air quality variation characteristics based on the monitoring data: Case study for Beijing during 2013-2016',\n",
       "   'Alveolar macrophage reaction to PM2.5 of hazy day in vitro: Evaluation methods and mitochondrial screening to determine mechanisms of biological effect',\n",
       "   'Evaluation of hexavalent chromium concentration in water and its health risk with a system dynamics model',\n",
       "   'Microscopic comparison of aerosol particles collected at an urban site in North China and a coastal site in Japan',\n",
       "   'Changes of urban nitrogen metabolism in the Beijing megacity of China, 2000-2016',\n",
       "   'Estimate of boundary-layer depth in Nanjing city using aerosol lidar data during 2016-2017 winter',\n",
       "   'Microplastic abundance, characteristics, and removal in wastewater treatment plants in a coastal city of China',\n",
       "   'The levels, sources and reactivity of volatile organic compounds in a typical urban area of Northeast China',\n",
       "   'The Evaluation of Air Quality in Albania by Moss Biomonitoring and Metals Atmospheric Deposition',\n",
       "   'Trace and major element contents, microbial communities, and enzymatic activities of urban soils of Marrakech city along an anthropization gradient'],\n",
       "  'population': ['An image layer difference index method to extract light area from NPP/VIIRS nighttime light monthly data',\n",
       "   'A multi-scale calibration approach for process-oriented aggregated building energy demand models',\n",
       "   'Association of maternal chronic arsenic exposure with the risk of neural tube defects in Northern China',\n",
       "   'Human health risk assessment: Study of a population exposed to fluoride through groundwater of Agra city, India.',\n",
       "   'Real-data-based high-resolution GHG emissions accounting of urban residents private transportation',\n",
       "   'CO2 emissions, urbanisation and economic growth: evidence from Asian countries',\n",
       "   'Ethnic, geographic and dietary differences in arsenic exposure in the multi-ethnic study of atherosclerosis (MESA)',\n",
       "   'The burden of cervical cancer in Vietnam: Synthesis of the evidence',\n",
       "   'Aryl hydrocarbon receptor-mediated activity of gas-phase ambient air derived from passive sampling and an in vitro bioassay',\n",
       "   'A simple self-adjusting model for correcting the blooming effects in DMSP-OLS nighttime light images'],\n",
       "  'prevalence': ['Variations in cardiovascular risk factors in people with and without migration background in Germany - Results from the STAAB cohort study',\n",
       "   'Ticks and tick-borne diseases in the city: Role of landscape connectivity and green space characteristics in a metropolitan area',\n",
       "   'Epidemiological and molecular investigation of norovirus and astrovirus infections in Rio Branco, Acre, Northern Brazil: A retrospective study',\n",
       "   'Association between ambient temperature and chronic obstructive pulmonary disease: a population-based study of the years of life lost',\n",
       "   'Use of mental health services by community-resident adults with DSM-IV anxiety and mood disorders in a violence-prone area: Sao Paulo, Brazil',\n",
       "   'Identification of new urinary risk markers for urinary stones using a logistic model and multinomial logit model',\n",
       "   \"Parents' Knowledge, Attitudes and Practices on Antibiotic Use by Children\",\n",
       "   'Community-based structural social capital and depressive symptoms of older urban Chinese adults: The mediating role of cognitive social capital',\n",
       "   'Wastewater analysis reveals spatial pattern in consumption of anti-diabetes drug metformin in China',\n",
       "   'Use of standardised patients to assess gender differences in quality of tuberculosis care in urban India: a two-city, cross-sectional study'],\n",
       "  'quality': ['Vertical monitoring of traffic-related air pollution (TRAP) in urban street canyons of Hong Kong',\n",
       "   'Segmentation and motivation of foreign tourists in world heritage sites. A case study, Quito (Ecuador)',\n",
       "   'Are land values related to ambient air pollution levels? Hedonic evidence from Mexico City',\n",
       "   'Assessing neighborhood air pollution exposure and its relationship with the urban form',\n",
       "   'Exposure and risk assessment of PAHs in indoor air of waterpipe cafes in Ardebil, Iran',\n",
       "   'Hydrochemical characterization of groundwater in the Loja Basin (Ecuador)',\n",
       "   'Characteristics of one-year observation of VOCs, NOx, and O-3 at an urban site in Wuhan, China',\n",
       "   'Profiles and monthly variations of selected volatile organic compounds in indoor air in Canadian homes: Results of Canadian national indoor air survey 2012-2013',\n",
       "   'Physicochemical and microbiological quality of the public water supply in 38 cities from the midwest region of the State of Sao Paulo, Brazil.',\n",
       "   'Implication of activity-based vessel emission to improve regional air inventory in a port area'],\n",
       "  'risk': ['Inventory of geo-hydrological phenomena in Genova municipality (NW Italy)',\n",
       "   'The association between cold spells and admissions of ischemic stroke in Hefei, China: Modified by gender and age',\n",
       "   'Establish an environmentally sustainable Giant Panda National Park in the Qinling Mountains',\n",
       "   'Increased susceptibility to heat for respiratory hospitalizations in Hong Kong',\n",
       "   'Widespread anticoagulant poison exposure in predators in a rapidly growing South African city',\n",
       "   'The impact of ambient particulate matter on hospital outpatient visits for respiratory and circulatory system disease in an urban Chinese population',\n",
       "   'The financialising local growth machine in Chicago',\n",
       "   'Association of maternal chronic arsenic exposure with the risk of neural tube defects in Northern China',\n",
       "   'The Action Is Everywhere, But Greater at More Localized Spatial Scales: Comparing Concentrations of Crime across Addresses, Streets, and Neighborhoods',\n",
       "   'Genetic polymorphisms associated with pediatric-onset type 2 diabetes: A family-based transmission disequilibrium test and case-control study'],\n",
       "  'risk factor': ['Variations in cardiovascular risk factors in people with and without migration background in Germany - Results from the STAAB cohort study',\n",
       "   'Analysis of genetic and serology of hepatitis A virus infection during and after outbreak in two junior high schools in Surabaya, Indonesia',\n",
       "   'Clinical presentation, risk factors and pathogens involved in bacteriuria of pregnant women attending antenatal clinic of 3 hospitals in a developing country: a cross sectional analytic study.',\n",
       "   'Analysis of neonatal mortality risk factors in Brazil: a systematic review and meta-analysis of observational studies.',\n",
       "   'The prevalence of premature thelarche in girls and gynecomastia in boys and the associated factors in children in Southern China',\n",
       "   'Prevalence and Risk Factors for Chronic Edema in UK Community Nursing Services',\n",
       "   'The burden of cervical cancer in Vietnam: Synthesis of the evidence',\n",
       "   'Policy solution and game analysis for addressing the challenge of developing public-private partnership energy project',\n",
       "   'Policy solution and game analysis for addressing the challenge of developing public-private partnership energy project',\n",
       "   'Maternal, prenatal and traditional practice factors associated with perinatal mortality in Yemen'],\n",
       "  'simulation': ['Modeling Urban Spatial Expansion Considering Population Migration Interaction in Ezhou, Central China',\n",
       "   'Physically based storm transposition of four Atlantic tropical cyclones',\n",
       "   'A multi-scale calibration approach for process-oriented aggregated building energy demand models',\n",
       "   'Airflow modeling based on zonal method for natural ventilated double skin facade with Venetian blinds',\n",
       "   'Reconstructing pre-fire vegetation condition in the wildland urban interface (WUI) using artificial neural network',\n",
       "   'Reliable simulation-optimization of traffic lights in a real-world city',\n",
       "   'Estimation of regional trip length distributions for the calibration of the aggregated network traffic models',\n",
       "   'Limiting Alcohol Outlet Density to Prevent Alcohol Use and Violence: Estimating Policy Interventions Through Agent-Based Modeling',\n",
       "   'What is smart? A real estate introduction to cities and buildings in the digital era',\n",
       "   'Optimal operation of interbasin water transfer multireservoir systems: an empirical analysis from China'],\n",
       "  'smart city': ['Anomalous events removal for automated traffic noise maps generation',\n",
       "   \"Measuring cities' performance: Proposal of a Composite Index for the intelligence dimension\",\n",
       "   'Transport tracking through communication in WDSN for smart cities',\n",
       "   'Dynamic illuminance measurement and control used for smart lighting with LED',\n",
       "   \"Shaping tomorrow's facilities management\",\n",
       "   'The Timescape of Smart Cities',\n",
       "   'Sustainable Framework for Smart Transportation System: A Case Study of Karachi',\n",
       "   'Selling Smartness: Corporate Narratives and the Smart City as a Sociotechnical Imaginary',\n",
       "   'An IoT-based smart cities infrastructure architecture applied to a waste management scenario',\n",
       "   'The Effect of Innovation-Driven Strategy on Green Economic Development in China-An Empirical Study of Smart Cities.'],\n",
       "  'space': [\"'Together apart' or 'apart together'? - middle-class parents' choice of playgrounds and playground interactions in socially diverse neighbourhoods\",\n",
       "   'Green Infrastructure and the Hidden Politics of Urban Stormwater Governance in a Postindustrial City',\n",
       "   'Rethinking the Geographies of Walkability in Small City Centers',\n",
       "   \"'The largest volunteer life saving corps in the world': centering child caregiving in histories of US human security through the Little Mothers' League\",\n",
       "   \"'Deal or no deal?' Governing urban infrastructure funding and financing in the UK City Deals\",\n",
       "   'Residential location choice in a developing country: What matter? A choice experiment application in Burkina Faso',\n",
       "   'Outdoor thermal comfort in different urban settings of sub-tropical high-density cities: An approach of adopting local climate zone (LCZ) classification',\n",
       "   'Bringing Buddha to the City: Metropolitan New Orleans and Vietnamese Buddhist Communities',\n",
       "   'Bringing the Kingdom to the City: Mission as Placemaking Practice amongst Kenyan Pentecostals in London',\n",
       "   \"Segregated from the City: Women's Spaces in Islamic Movements in Pakistan\"],\n",
       "  'sustainability': ['Fertile cities: Nutrient management practices in urban agriculture',\n",
       "   'Response of agricultural multifunctionality to farmland loss under rapidly urbanizing processes in Yangtze River Delta, China',\n",
       "   'Narratives of energy poverty in Hong Kong',\n",
       "   'Green Infrastructure and the Hidden Politics of Urban Stormwater Governance in a Postindustrial City',\n",
       "   'The smart grid as commons: Exploring alternatives to infrastructure financialisation',\n",
       "   \"Enhancing urban transformative capacity through children's participation in planning\",\n",
       "   'Developing transformative capacity through systematic assessments and visualization of urban climate transitions',\n",
       "   'The Future of Cities: The End of Marxism and the Promise of Green Urbanism',\n",
       "   'Thinking critically about smart city experimentation: entrepreneurialism and responsibilization in urban living labs',\n",
       "   'Assessment of the water resource carrying capacity based on the ecological footprint: a case study in Zhangjiakou City, North China'],\n",
       "  'system': ['A robust inexact trapezoidal T2 fuzzy approach coupling possibility degrees for solid waste disposal allocation with integrated optimal greenhouse gas control under uncertainty',\n",
       "   'Modeling Urban Spatial Expansion Considering Population Migration Interaction in Ezhou, Central China',\n",
       "   'Dynamic illuminance measurement and control used for smart lighting with LED',\n",
       "   'Economic analysis of residential solar photovoltaic electricity production in Canada',\n",
       "   'Mesoscale Structures in World City Networks',\n",
       "   'A soft traffic management approach for achieving environmentally sustainable and economically viable outcomes: An Australian case study',\n",
       "   'Transformative capacity and local action for urban sustainability',\n",
       "   'Distribution transformer failure modes, effects and criticality analysis (FMECA)',\n",
       "   'Proximity to metro stations and commercial gentrification',\n",
       "   'Impact of commercial land mixture on energy and environmental performance of mixed use neighbourhoods'],\n",
       "  'temperature': ['Ticks and tick-borne diseases in the city: Role of landscape connectivity and green space characteristics in a metropolitan area',\n",
       "   'Spatial-temporal variations of surface urban heat island intensity induced by different definitions of rural extents in China',\n",
       "   'Increased susceptibility to heat for respiratory hospitalizations in Hong Kong',\n",
       "   'Characterizing the spatial pattern of annual urban growth by using time series Landsat imagery',\n",
       "   'The role of air pollution and climate on the growth of urban trees',\n",
       "   'Impact of urban characteristics on cooling energy consumption before and after construction of an urban park: The case of Gyeongui line forest in Seoul',\n",
       "   'Association between ambient temperature and chronic obstructive pulmonary disease: a population-based study of the years of life lost',\n",
       "   'Exploration of the heterogeneous effect of climate change on ozone concentration in an urban environment',\n",
       "   'Characterization of PM2.5-bound PAHs and carbonaceous aerosols during three-month severe haze episode in Shanghai, China: Chemical composition, source apportionment and long-range transportation',\n",
       "   'Using fractals and multifractals to characterize the spatiotemporal pattern of impervious surfaces in a coastal city: Xiamen, China'],\n",
       "  'urban': ['ATMOSPHERIC ENVIRONMENTAL QUALITY ASSESSMENT METHOD BASED ON ANALYTIC HIERARCHY PROCESS',\n",
       "   'Ticks and tick-borne diseases in the city: Role of landscape connectivity and green space characteristics in a metropolitan area',\n",
       "   'Ticks and tick-borne diseases in the city: Role of landscape connectivity and green space characteristics in a metropolitan area',\n",
       "   'The relationship between indoor and outdoor temperature in warm and cool seasons in houses in Brisbane, Australia',\n",
       "   'The smart grid as commons: Exploring alternatives to infrastructure financialisation',\n",
       "   'Elemental characterization and source identification of the near-road PM2.5 using EDXRF in Chengdu, China',\n",
       "   'Residential location choice in a developing country: What matter? A choice experiment application in Burkina Faso',\n",
       "   'What Is the Urban Landscape and What Role in Urban History?',\n",
       "   'Patterns of adolescent tobacco and alcohol use as predictors of illicit and prescription drug abuse in minority young adults.',\n",
       "   'What Prompts Policy Change? Comparative Analyses of Efforts to Create Age-Friendly Cities in 14 Cities in Indonesia.'],\n",
       "  'urbanization': ['Regional economic growth and the role of high-speed rail in China',\n",
       "   'Spatial-temporal variations of surface urban heat island intensity induced by different definitions of rural extents in China',\n",
       "   'A long-term and comprehensive assessment of the urbanization-induced impacts on vegetation net primary productivity',\n",
       "   'Response of agricultural multifunctionality to farmland loss under rapidly urbanizing processes in Yangtze River Delta, China',\n",
       "   'Widespread anticoagulant poison exposure in predators in a rapidly growing South African city',\n",
       "   'Changes of urban nitrogen metabolism in the Beijing megacity of China, 2000-2016',\n",
       "   \"Valuing urban green spaces in mitigating climate change: A city-wide estimate of aboveground carbon stored in urban green spaces of China's Capital\",\n",
       "   'Measuring social, environmental and health inequalities using deep learning and street imagery',\n",
       "   'Examining the influences of urbanization on carbon dioxide emissions in the Yangtze River Delta, China: Kuznets curve relationship.',\n",
       "   'Spatial identification of conservation priority areas for urban ecological land: An approach based on water ecosystem services'],\n",
       "  'water': ['Evaluation of hexavalent chromium concentration in water and its health risk with a system dynamics model',\n",
       "   'Aerosol light absorption in a coastal city in Southeast China: Temporal variations and implications for brown carbon',\n",
       "   'Sources of dissolved organic carbon (DOC) in a mixed land use catchment (Exe, UK)',\n",
       "   'The financialisation of urban infrastructure: A framework of analysis',\n",
       "   'Concentrations and health risks of inorganic arsenic and methylmercury in shellfish from typical coastal cities in China: A simultaneous analytical method study',\n",
       "   'Physicochemical and microbiological quality of the public water supply in 38 cities from the midwest region of the State of Sao Paulo, Brazil.',\n",
       "   'Flash floods and groundwater evaluation for the non-gauged dryland catchment using remote sensing, GIS and DC resistivity data: A case study from the Eastern Desert of Egypt',\n",
       "   'Impact of air drought on photosynthesis efficiency of the Siberian crabapple (Malus baccata L. Borkh.) in the forest-steppe zone of Transbaikalia, Russia',\n",
       "   'Contamination status and potential release of trace metals in a mangrove forest sediment in Ho Chi Minh City, Vietnam',\n",
       "   'Management and restoration of dune lakes in Veracruz, Gulf of Mexico']},\n",
       " 'links': array([[ 0., 13., 10., ...,  2.,  1.,  5.],\n",
       "        [13.,  4.,  5., ...,  2.,  4.,  0.],\n",
       "        [10.,  5.,  0., ...,  2.,  3.,  1.],\n",
       "        ...,\n",
       "        [ 2.,  2.,  2., ...,  0.,  0.,  0.],\n",
       "        [ 1.,  4.,  3., ...,  0.,  0.,  1.],\n",
       "        [ 5.,  0.,  1., ...,  0.,  1.,  2.]]),\n",
       " 'nodes': [{'count': 136, 'keyword': 'impact'},\n",
       "  {'count': 99, 'keyword': 'china'},\n",
       "  {'count': 83, 'keyword': 'model'},\n",
       "  {'count': 83, 'keyword': 'prevalence'},\n",
       "  {'count': 76, 'keyword': 'urbanization'},\n",
       "  {'count': 76, 'keyword': 'system'},\n",
       "  {'count': 72, 'keyword': 'air pollution'},\n",
       "  {'count': 67, 'keyword': 'health'},\n",
       "  {'count': 63, 'keyword': 'urban'},\n",
       "  {'count': 62, 'keyword': 'smart city'},\n",
       "  {'count': 62, 'keyword': 'management'},\n",
       "  {'count': 56, 'keyword': 'exposure'},\n",
       "  {'count': 56, 'keyword': 'performance'},\n",
       "  {'count': 54, 'keyword': 'risk'},\n",
       "  {'count': 51, 'keyword': 'pollution'},\n",
       "  {'count': 50, 'keyword': 'area'},\n",
       "  {'count': 49, 'keyword': 'quality'},\n",
       "  {'count': 48, 'keyword': 'heavy metal'},\n",
       "  {'count': 48, 'keyword': 'mortality'},\n",
       "  {'count': 46, 'keyword': 'child'},\n",
       "  {'count': 46, 'keyword': 'pattern'},\n",
       "  {'count': 45, 'keyword': 'climate change'},\n",
       "  {'count': 42, 'keyword': 'particulate matter'},\n",
       "  {'count': 41, 'keyword': 'association'},\n",
       "  {'count': 40, 'keyword': 'ecosystem service'},\n",
       "  {'count': 37, 'keyword': 'risk factor'},\n",
       "  {'count': 36, 'keyword': 'optimization'},\n",
       "  {'count': 36, 'keyword': 'growth'},\n",
       "  {'count': 35, 'keyword': 'pm2.5'},\n",
       "  {'count': 35, 'keyword': 'sustainability'},\n",
       "  {'count': 34, 'keyword': 'population'},\n",
       "  {'count': 34, 'keyword': 'land use'},\n",
       "  {'count': 34, 'keyword': 'policy'},\n",
       "  {'count': 33, 'keyword': 'design'},\n",
       "  {'count': 33, 'keyword': 'gis'},\n",
       "  {'count': 32, 'keyword': 'disease'},\n",
       "  {'count': 32, 'keyword': 'space'},\n",
       "  {'count': 32, 'keyword': 'governance'},\n",
       "  {'count': 31, 'keyword': 'temperature'},\n",
       "  {'count': 31, 'keyword': 'simulation'},\n",
       "  {'count': 31, 'keyword': 'framework'},\n",
       "  {'count': 31, 'keyword': 'knowledge'},\n",
       "  {'count': 30, 'keyword': 'dynamic'},\n",
       "  {'count': 30, 'keyword': 'energy'},\n",
       "  {'count': 30, 'keyword': 'community'},\n",
       "  {'count': 30, 'keyword': 'physical activity'},\n",
       "  {'count': 30, 'keyword': 'epidemiology'},\n",
       "  {'count': 29, 'keyword': 'water'},\n",
       "  {'count': 29, 'keyword': 'network'},\n",
       "  {'count': 29, 'keyword': 'environment'}]}"
      ]
     },
     "execution_count": 25,
     "metadata": {},
     "output_type": "execute_result"
    }
   ],
   "source": [
    "out"
   ]
  },
  {
   "cell_type": "code",
   "execution_count": null,
   "metadata": {
    "collapsed": true
   },
   "outputs": [],
   "source": []
  },
  {
   "cell_type": "code",
   "execution_count": null,
   "metadata": {
    "collapsed": true
   },
   "outputs": [],
   "source": []
  },
  {
   "cell_type": "code",
   "execution_count": null,
   "metadata": {
    "collapsed": true
   },
   "outputs": [],
   "source": []
  },
  {
   "cell_type": "markdown",
   "metadata": {
    "collapsed": true
   },
   "source": [
    "# Build graph"
   ]
  },
  {
   "cell_type": "code",
   "execution_count": 31,
   "metadata": {
    "collapsed": true
   },
   "outputs": [],
   "source": [
    "keys = n[1:51]"
   ]
  },
  {
   "cell_type": "code",
   "execution_count": 32,
   "metadata": {
    "collapsed": true
   },
   "outputs": [],
   "source": [
    "links = []\n",
    "\n",
    "for x in range(len(kw)):\n",
    "    \n",
    "    l = []\n",
    "    words = kw[x]\n",
    "    for w in words:\n",
    "        s = (w.split(':')[1]).split(';')\n",
    "        for m in s:\n",
    "            nw = p.singular_noun(m.lower().strip('\\n').strip().replace('-', ' '))\n",
    "\n",
    "            if nw:\n",
    "                t = nw\n",
    "            else:\n",
    "                t = m.lower().strip('\\n').strip().replace('-', ' ')\n",
    "            \n",
    "            try:\n",
    "                l.append(keys.index(t))\n",
    "            except:\n",
    "                pass\n",
    "            \n",
    "    links.append(l)"
   ]
  },
  {
   "cell_type": "code",
   "execution_count": 33,
   "metadata": {
    "collapsed": true
   },
   "outputs": [],
   "source": [
    "nlinks = []\n",
    "\n",
    "for x in links:\n",
    "    for i in range(len(x) - 1):\n",
    "        for j in range(i + 1, len(x)):\n",
    "            nlinks.append([x[i], x[j]])"
   ]
  },
  {
   "cell_type": "code",
   "execution_count": null,
   "metadata": {
    "collapsed": true
   },
   "outputs": [],
   "source": []
  },
  {
   "cell_type": "code",
   "execution_count": 35,
   "metadata": {
    "collapsed": true
   },
   "outputs": [],
   "source": [
    "%matplotlib inline\n",
    "import matplotlib.pyplot as plt\n",
    "import networkx as nx"
   ]
  },
  {
   "cell_type": "code",
   "execution_count": 36,
   "metadata": {
    "collapsed": true
   },
   "outputs": [],
   "source": [
    "G = nx.Graph() \n",
    "for x in range(50):\n",
    "    G.add_node(x)\n",
    "    \n",
    "# G.remove_node(36)"
   ]
  },
  {
   "cell_type": "code",
   "execution_count": 37,
   "metadata": {
    "collapsed": true
   },
   "outputs": [],
   "source": [
    "for x in nlinks:\n",
    "    G.add_edge(x[0], x[1]) "
   ]
  },
  {
   "cell_type": "code",
   "execution_count": 38,
   "metadata": {},
   "outputs": [
    {
     "name": "stderr",
     "output_type": "stream",
     "text": [
      "/Users/gz/anaconda2/envs/py36/lib/python3.6/site-packages/networkx/drawing/nx_pylab.py:611: MatplotlibDeprecationWarning: isinstance(..., numbers.Number)\n",
      "  if cb.is_numlike(alpha):\n"
     ]
    },
    {
     "data": {
      "image/png": "[encoded data removed]",
      "text/plain": [
       "<Figure size 432x288 with 1 Axes>"
      ]
     },
     "metadata": {},
     "output_type": "display_data"
    }
   ],
   "source": [
    "nx.draw(G, with_labels=True)\n",
    "plt.savefig('city_50_graph.png')"
   ]
  },
  {
   "cell_type": "code",
   "execution_count": 39,
   "metadata": {
    "collapsed": true
   },
   "outputs": [],
   "source": [
    "matrix = np.zeros((50, 50))"
   ]
  },
  {
   "cell_type": "code",
   "execution_count": 40,
   "metadata": {
    "collapsed": true
   },
   "outputs": [],
   "source": [
    "matrix = pd.DataFrame(matrix)"
   ]
  },
  {
   "cell_type": "code",
   "execution_count": 41,
   "metadata": {
    "collapsed": true
   },
   "outputs": [],
   "source": [
    "for x in nlinks:\n",
    "    matrix[x[0]][x[1]] += 1\n",
    "    matrix[x[1]][x[0]] += 1"
   ]
  },
  {
   "cell_type": "code",
   "execution_count": 42,
   "metadata": {
    "collapsed": true
   },
   "outputs": [],
   "source": [
    "matrix.to_csv('20190506_city_top_50_matrix.csv', index=False)"
   ]
  },
  {
   "cell_type": "code",
   "execution_count": null,
   "metadata": {
    "collapsed": true
   },
   "outputs": [],
   "source": []
  },
  {
   "cell_type": "markdown",
   "metadata": {},
   "source": [
    "# Get top articles"
   ]
  },
  {
   "cell_type": "code",
   "execution_count": 90,
   "metadata": {
    "collapsed": true
   },
   "outputs": [],
   "source": [
    "al = np.load('hot_title_1.npy')"
   ]
  },
  {
   "cell_type": "code",
   "execution_count": 91,
   "metadata": {
    "collapsed": true
   },
   "outputs": [],
   "source": [
    "al = al[:10]"
   ]
  },
  {
   "cell_type": "code",
   "execution_count": 92,
   "metadata": {
    "collapsed": true
   },
   "outputs": [],
   "source": [
    "al = list(al)"
   ]
  },
  {
   "cell_type": "code",
   "execution_count": 93,
   "metadata": {
    "collapsed": true
   },
   "outputs": [],
   "source": [
    "al = [x.strip('\\n') for x in al]"
   ]
  },
  {
   "cell_type": "code",
   "execution_count": 94,
   "metadata": {
    "collapsed": true
   },
   "outputs": [],
   "source": [
    "out = pd.DataFrame()\n",
    "out['rank'] = [x+1 for x in range(10)] \n",
    "out['article'] = al\n",
    "out.to_csv('city_hot_articles.csv', index=False)"
   ]
  },
  {
   "cell_type": "code",
   "execution_count": null,
   "metadata": {
    "collapsed": true
   },
   "outputs": [],
   "source": []
  },
  {
   "cell_type": "markdown",
   "metadata": {},
   "source": [
    "# NLP"
   ]
  },
  {
   "cell_type": "code",
   "execution_count": 4,
   "metadata": {
    "collapsed": true
   },
   "outputs": [],
   "source": [
    "import gensim.downloader as api"
   ]
  },
  {
   "cell_type": "code",
   "execution_count": 1,
   "metadata": {
    "collapsed": true
   },
   "outputs": [],
   "source": [
    "from gensim.models import Word2Vec"
   ]
  },
  {
   "cell_type": "code",
   "execution_count": 13,
   "metadata": {
    "collapsed": true
   },
   "outputs": [],
   "source": [
    "model = api.load(\"word2vec-google-news-300\")"
   ]
  },
  {
   "cell_type": "code",
   "execution_count": null,
   "metadata": {
    "collapsed": true
   },
   "outputs": [],
   "source": [
    "model.similarity('france', 'spain')"
   ]
  },
  {
   "cell_type": "code",
   "execution_count": null,
   "metadata": {
    "collapsed": true
   },
   "outputs": [],
   "source": []
  },
  {
   "cell_type": "code",
   "execution_count": null,
   "metadata": {
    "collapsed": true
   },
   "outputs": [],
   "source": []
  },
  {
   "cell_type": "code",
   "execution_count": null,
   "metadata": {
    "collapsed": true
   },
   "outputs": [],
   "source": []
  },
  {
   "cell_type": "code",
   "execution_count": null,
   "metadata": {
    "collapsed": true
   },
   "outputs": [],
   "source": []
  },
  {
   "cell_type": "code",
   "execution_count": null,
   "metadata": {
    "collapsed": true
   },
   "outputs": [],
   "source": []
  }
 ],
 "metadata": {
  "kernelspec": {
   "display_name": "Python 3",
   "language": "python",
   "name": "python3"
  },
  "language_info": {
   "codemirror_mode": {
    "name": "ipython",
    "version": 3
   },
   "file_extension": ".py",
   "mimetype": "text/x-python",
   "name": "python",
   "nbconvert_exporter": "python",
   "pygments_lexer": "ipython3",
   "version": "3.6.7"
  }
 },
 "nbformat": 4,
 "nbformat_minor": 2
}
